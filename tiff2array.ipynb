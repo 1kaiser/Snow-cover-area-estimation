{
  "nbformat": 4,
  "nbformat_minor": 0,
  "metadata": {
    "colab": {
      "provenance": [],
      "authorship_tag": "ABX9TyORrPuk5xJqgAFcJZ2pYgKD",
      "include_colab_link": true
    },
    "kernelspec": {
      "name": "python3",
      "display_name": "Python 3"
    },
    "language_info": {
      "name": "python"
    }
  },
  "cells": [
    {
      "cell_type": "markdown",
      "metadata": {
        "id": "view-in-github",
        "colab_type": "text"
      },
      "source": [
        "<a href=\"https://colab.research.google.com/github/1kaiser/Snow-cover-area-estimation/blob/main/tiff2array.ipynb\" target=\"_parent\"><img src=\"https://colab.research.google.com/assets/colab-badge.svg\" alt=\"Open In Colab\"/></a>"
      ]
    },
    {
      "cell_type": "code",
      "execution_count": 1,
      "metadata": {
        "id": "3lUV96TiqTux"
      },
      "outputs": [],
      "source": [
        "import numpy as np\n",
        "import matplotlib.pyplot as plt\n",
        "import pandas as pd\n",
        "import os.path\n",
        "import re\n",
        "\n",
        "from osgeo import gdal\n",
        "from osgeo import gdal_array\n",
        "from osgeo import osr\n",
        "\n",
        "def get_gain_band(input_file):\n",
        "    \"\"\"get GAIN_BAND from meta file (*.tif.txt)\"\"\"\n",
        "     # define file name of *.tif.txt\n",
        "    ifile_txt = re.sub(r'.tif', '.tif.txt', input_file)\n",
        "    ld = open(ifile_txt)\n",
        "    lines = ld.readlines()\n",
        "    ld.close()\n",
        "    \n",
        "    gain_band = []\n",
        "    for line in lines:\n",
        "        if line.find(\"GAIN_BAND\") >= 0:\n",
        "             gain_band.append(float((re.split(' ', line)[1]).strip()))\n",
        "    return gain_band\n",
        "\n",
        "def tif2array(input_file, calc_gain=True):\n",
        "    \"\"\"\n",
        "    read GeoTiff and convert to numpy.ndarray.\n",
        "    Inputs:\n",
        "        input_file (str) : the name of input GeoTiff file.\n",
        "        calc_gain (bool) : wheter calc GAIN to DN  or not (defaul:True).\n",
        "    return:\n",
        "        image(np.array) : image for each bands\n",
        "        dataset : for gdal's data drive.\n",
        "    \"\"\"\n",
        "    dataset = gdal.Open(input_file, gdal.GA_ReadOnly)\n",
        "    # Allocate our array using the first band's datatype\n",
        "    image_datatype = dataset.GetRasterBand(1).DataType\n",
        "    image = np.zeros((dataset.RasterYSize, dataset.RasterXSize, dataset.RasterCount),\n",
        "                     dtype=float)\n",
        "    \n",
        "    if calc_gain == True:\n",
        "        # get gain\n",
        "        gain = get_gain_band(input_file)\n",
        "    \n",
        "    # Loop over all bands in dataset\n",
        "    for b in range(dataset.RasterCount):\n",
        "        # Remember, GDAL index is on 1, but Python is on 0 -- so we add 1 for our GDAL calls\n",
        "        band = dataset.GetRasterBand(b + 1)\n",
        "        # Read in the band's data into the third dimension of our array\n",
        "        if calc_gain == True:\n",
        "            # calc gain value for each bands\n",
        "            image[:, :, b] = band.ReadAsArray() * gain[b]\n",
        "        else:\n",
        "            image[:, :, b] = band.ReadAsArray()\n",
        "    return image, dataset"
      ]
    },
    {
      "cell_type": "code",
      "source": [
        "from google.colab import drive\n",
        "drive.mount('/content/drive')"
      ],
      "metadata": {
        "colab": {
          "base_uri": "https://localhost:8080/"
        },
        "id": "yPdly86dtDqc",
        "outputId": "858742c8-2e9a-4a55-8631-4b2ca2c9b59e"
      },
      "execution_count": 2,
      "outputs": [
        {
          "output_type": "stream",
          "name": "stdout",
          "text": [
            "Mounted at /content/drive\n"
          ]
        }
      ]
    },
    {
      "cell_type": "code",
      "source": [
        "!cp -r /content/drive/MyDrive/OUT/data/data18022023/C1 /content/"
      ],
      "metadata": {
        "id": "qKTN6C1btYsH"
      },
      "execution_count": 3,
      "outputs": []
    },
    {
      "cell_type": "code",
      "source": [
        "temp_dir = r'/content/'\n",
        "images = []\n",
        "path_list = ['C1/download.B11.tif',\n",
        "             'C1/download.B12.tif',\n",
        "             'C1/download.B2.tif',\n",
        "             'C1/download.B3.tif',\n",
        "             'C1/download.B4.tif',\n",
        "             'C1/download.B5.tif',\n",
        "             'C1/download.B6.tif',\n",
        "             'C1/download.B7.tif',\n",
        "             'C1/download.B8A.tif',\n",
        "             'C1/download.B8x.tif',]\n",
        "pathout = temp_dir+str('C1/download.B11.tif')\n",
        "images.append(tif2array(pathout, 0)[0])"
      ],
      "metadata": {
        "id": "DtkG-9fMrZ_X"
      },
      "execution_count": 4,
      "outputs": []
    },
    {
      "cell_type": "code",
      "source": [
        "path_list = ['C1/download.B11.tif',\n",
        "             'C1/download.B12.tif',\n",
        "             'C1/download.B2.tif',\n",
        "             'C1/download.B3.tif',\n",
        "             'C1/download.B4.tif',\n",
        "             'C1/download.B5.tif',\n",
        "             'C1/download.B6.tif',\n",
        "             'C1/download.B7.tif',\n",
        "             'C1/download.B8A.tif',\n",
        "             'C1/download.B8x.tif',]"
      ],
      "metadata": {
        "id": "CXH26-tVxVfd"
      },
      "execution_count": 13,
      "outputs": []
    },
    {
      "cell_type": "code",
      "source": [
        "if(path_list.index(path_list[0])==0):\n",
        "  print(\"sss\")"
      ],
      "metadata": {
        "colab": {
          "base_uri": "https://localhost:8080/"
        },
        "id": "PJPWXlyA0_1O",
        "outputId": "056f953c-941a-48db-e6ea-935aa7c2a877"
      },
      "execution_count": 33,
      "outputs": [
        {
          "output_type": "stream",
          "name": "stdout",
          "text": [
            "sss\n"
          ]
        }
      ]
    },
    {
      "cell_type": "code",
      "source": [
        "v1 =[]\n",
        "for i in path_list:\n",
        "  pathout = temp_dir+str(i)\n",
        "  print(pathout)\n",
        "  if(path_list.index(i)==0):\n",
        "    v1 = tif2array(pathout, 0)[0].reshape(-1,1)\n",
        "  else:\n",
        "    v1 = np.append(v1, tif2array(pathout, 0)[0].reshape(-1,1), axis = 1)\n"
      ],
      "metadata": {
        "colab": {
          "base_uri": "https://localhost:8080/"
        },
        "id": "YwKtSRMqxW1P",
        "outputId": "f6482410-b0a3-4e79-e469-3b878677351d"
      },
      "execution_count": 35,
      "outputs": [
        {
          "output_type": "stream",
          "name": "stdout",
          "text": [
            "/content/C1/download.B11.tif\n",
            "/content/C1/download.B12.tif\n",
            "/content/C1/download.B2.tif\n",
            "/content/C1/download.B3.tif\n",
            "/content/C1/download.B4.tif\n",
            "/content/C1/download.B5.tif\n",
            "/content/C1/download.B6.tif\n",
            "/content/C1/download.B7.tif\n",
            "/content/C1/download.B8A.tif\n",
            "/content/C1/download.B8x.tif\n"
          ]
        }
      ]
    },
    {
      "cell_type": "code",
      "source": [
        "v1.shape"
      ],
      "metadata": {
        "colab": {
          "base_uri": "https://localhost:8080/"
        },
        "id": "z1LFEzc4tsjO",
        "outputId": "b6c6ce10-c157-422c-a722-b942bc93ed6b"
      },
      "execution_count": 36,
      "outputs": [
        {
          "output_type": "execute_result",
          "data": {
            "text/plain": [
              "(19180488, 10)"
            ]
          },
          "metadata": {},
          "execution_count": 36
        }
      ]
    },
    {
      "cell_type": "code",
      "source": [
        "cc = images[0].reshape(-1,1)\n",
        "cc.shape"
      ],
      "metadata": {
        "colab": {
          "base_uri": "https://localhost:8080/"
        },
        "id": "mgZBLP3eucME",
        "outputId": "0786207a-b633-4ea8-8062-61d6df0920d1"
      },
      "execution_count": 11,
      "outputs": [
        {
          "output_type": "execute_result",
          "data": {
            "text/plain": [
              "(19180488, 1)"
            ]
          },
          "metadata": {},
          "execution_count": 11
        }
      ]
    },
    {
      "cell_type": "code",
      "source": [
        "import pandas as pd\n",
        "arr = cc\n",
        " \n",
        "# display the array\n",
        "print(arr)\n",
        " \n",
        "# convert array into dataframe\n",
        "DF = pd.DataFrame(arr)\n",
        " \n",
        "# save the dataframe as a csv file\n",
        "DF.to_csv(\"data1.csv\")"
      ],
      "metadata": {
        "colab": {
          "base_uri": "https://localhost:8080/"
        },
        "id": "8DBy_PklvPPa",
        "outputId": "5b81a8dc-ac85-4637-c16b-1a2300b54f48"
      },
      "execution_count": 12,
      "outputs": [
        {
          "output_type": "stream",
          "name": "stdout",
          "text": [
            "[[-3.40282306e+38]\n",
            " [-3.40282306e+38]\n",
            " [-3.40282306e+38]\n",
            " ...\n",
            " [-3.40282306e+38]\n",
            " [-3.40282306e+38]\n",
            " [-3.40282306e+38]]\n"
          ]
        }
      ]
    }
  ]
}