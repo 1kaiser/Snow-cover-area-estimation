{
  "nbformat": 4,
  "nbformat_minor": 0,
  "metadata": {
    "colab": {
      "provenance": [],
      "authorship_tag": "ABX9TyOUhMmAl0htMO0o9Svc1NMD",
      "include_colab_link": true
    },
    "kernelspec": {
      "name": "python3",
      "display_name": "Python 3"
    },
    "language_info": {
      "name": "python"
    }
  },
  "cells": [
    {
      "cell_type": "markdown",
      "metadata": {
        "id": "view-in-github",
        "colab_type": "text"
      },
      "source": [
        "<a href=\"https://colab.research.google.com/github/1kaiser/Snow-cover-area-estimation/blob/main/tiff2array.ipynb\" target=\"_parent\"><img src=\"https://colab.research.google.com/assets/colab-badge.svg\" alt=\"Open In Colab\"/></a>"
      ]
    },
    {
      "cell_type": "code",
      "execution_count": 1,
      "metadata": {
        "id": "3lUV96TiqTux"
      },
      "outputs": [],
      "source": [
        "import numpy as np\n",
        "import matplotlib.pyplot as plt\n",
        "import pandas as pd\n",
        "import os.path\n",
        "import re\n",
        "\n",
        "from osgeo import gdal\n",
        "from osgeo import gdal_array\n",
        "from osgeo import osr\n",
        "\n",
        "def get_gain_band(input_file):\n",
        "    \"\"\"get GAIN_BAND from meta file (*.tif.txt)\"\"\"\n",
        "     # define file name of *.tif.txt\n",
        "    ifile_txt = re.sub(r'.tif', '.tif.txt', input_file)\n",
        "    ld = open(ifile_txt)\n",
        "    lines = ld.readlines()\n",
        "    ld.close()\n",
        "    \n",
        "    gain_band = []\n",
        "    for line in lines:\n",
        "        if line.find(\"GAIN_BAND\") >= 0:\n",
        "             gain_band.append(float((re.split(' ', line)[1]).strip()))\n",
        "    return gain_band\n",
        "\n",
        "def tif2array(input_file, calc_gain=True):\n",
        "    \"\"\"\n",
        "    read GeoTiff and convert to numpy.ndarray.\n",
        "    Inputs:\n",
        "        input_file (str) : the name of input GeoTiff file.\n",
        "        calc_gain (bool) : wheter calc GAIN to DN  or not (defaul:True).\n",
        "    return:\n",
        "        image(np.array) : image for each bands\n",
        "        dataset : for gdal's data drive.\n",
        "    \"\"\"\n",
        "    dataset = gdal.Open(input_file, gdal.GA_ReadOnly)\n",
        "    # Allocate our array using the first band's datatype\n",
        "    image_datatype = dataset.GetRasterBand(1).DataType\n",
        "    image = np.zeros((dataset.RasterYSize, dataset.RasterXSize, dataset.RasterCount),\n",
        "                     dtype=float)\n",
        "    \n",
        "    if calc_gain == True:\n",
        "        # get gain\n",
        "        gain = get_gain_band(input_file)\n",
        "    \n",
        "    # Loop over all bands in dataset\n",
        "    for b in range(dataset.RasterCount):\n",
        "        # Remember, GDAL index is on 1, but Python is on 0 -- so we add 1 for our GDAL calls\n",
        "        band = dataset.GetRasterBand(b + 1)\n",
        "        # Read in the band's data into the third dimension of our array\n",
        "        if calc_gain == True:\n",
        "            # calc gain value for each bands\n",
        "            image[:, :, b] = band.ReadAsArray() * gain[b]\n",
        "        else:\n",
        "            image[:, :, b] = band.ReadAsArray()\n",
        "    return image, dataset"
      ]
    },
    {
      "cell_type": "code",
      "source": [
        "from google.colab import drive\n",
        "drive.mount('/content/drive')"
      ],
      "metadata": {
        "colab": {
          "base_uri": "https://localhost:8080/"
        },
        "id": "yPdly86dtDqc",
        "outputId": "858742c8-2e9a-4a55-8631-4b2ca2c9b59e"
      },
      "execution_count": 2,
      "outputs": [
        {
          "output_type": "stream",
          "name": "stdout",
          "text": [
            "Mounted at /content/drive\n"
          ]
        }
      ]
    },
    {
      "cell_type": "code",
      "source": [
        "!cp -r /content/drive/MyDrive/OUT/data/data18022023/C1 /content/"
      ],
      "metadata": {
        "id": "qKTN6C1btYsH"
      },
      "execution_count": 3,
      "outputs": []
    },
    {
      "cell_type": "code",
      "source": [
        "temp_dir = r'/content/'\n",
        "images = []\n",
        "path_list = ['C1/download.B11.tif',\n",
        "             'C1/download.B12.tif',\n",
        "             'C1/download.B2.tif',\n",
        "             'C1/download.B3.tif',\n",
        "             'C1/download.B4.tif',\n",
        "             'C1/download.B5.tif',\n",
        "             'C1/download.B6.tif',\n",
        "             'C1/download.B7.tif',\n",
        "             'C1/download.B8A.tif',\n",
        "             'C1/download.B8x.tif',]\n",
        "pathout = temp_dir+str('C1/download.B11.tif')\n",
        "images.append(tif2array(pathout, 0)[0])"
      ],
      "metadata": {
        "id": "DtkG-9fMrZ_X"
      },
      "execution_count": 4,
      "outputs": []
    },
    {
      "cell_type": "code",
      "source": [
        "path_list = ['C1/download.B11.tif',\n",
        "             'C1/download.B12.tif',\n",
        "             'C1/download.B2.tif',\n",
        "             'C1/download.B3.tif',\n",
        "             'C1/download.B4.tif',\n",
        "             'C1/download.B5.tif',\n",
        "             'C1/download.B6.tif',\n",
        "             'C1/download.B7.tif',\n",
        "             'C1/download.B8A.tif',\n",
        "             'C1/download.B8x.tif',]"
      ],
      "metadata": {
        "id": "CXH26-tVxVfd"
      },
      "execution_count": 13,
      "outputs": []
    },
    {
      "cell_type": "code",
      "source": [
        "if(path_list.index(path_list[0])==0):\n",
        "  print(\"sss\")"
      ],
      "metadata": {
        "colab": {
          "base_uri": "https://localhost:8080/"
        },
        "id": "PJPWXlyA0_1O",
        "outputId": "056f953c-941a-48db-e6ea-935aa7c2a877"
      },
      "execution_count": 33,
      "outputs": [
        {
          "output_type": "stream",
          "name": "stdout",
          "text": [
            "sss\n"
          ]
        }
      ]
    },
    {
      "cell_type": "code",
      "source": [
        "v1 =[]\n",
        "for i in path_list:\n",
        "  pathout = temp_dir+str(i)\n",
        "  print(pathout)\n",
        "  if(path_list.index(i)==0):\n",
        "    v1 = tif2array(pathout, 0)[0].reshape(-1,1)\n",
        "  else:\n",
        "    v1 = np.append(v1, tif2array(pathout, 0)[0].reshape(-1,1), axis = 1)\n"
      ],
      "metadata": {
        "colab": {
          "base_uri": "https://localhost:8080/"
        },
        "id": "YwKtSRMqxW1P",
        "outputId": "f6482410-b0a3-4e79-e469-3b878677351d"
      },
      "execution_count": 35,
      "outputs": [
        {
          "output_type": "stream",
          "name": "stdout",
          "text": [
            "/content/C1/download.B11.tif\n",
            "/content/C1/download.B12.tif\n",
            "/content/C1/download.B2.tif\n",
            "/content/C1/download.B3.tif\n",
            "/content/C1/download.B4.tif\n",
            "/content/C1/download.B5.tif\n",
            "/content/C1/download.B6.tif\n",
            "/content/C1/download.B7.tif\n",
            "/content/C1/download.B8A.tif\n",
            "/content/C1/download.B8x.tif\n"
          ]
        }
      ]
    },
    {
      "cell_type": "code",
      "source": [
        "v1.shape"
      ],
      "metadata": {
        "colab": {
          "base_uri": "https://localhost:8080/"
        },
        "id": "z1LFEzc4tsjO",
        "outputId": "b6c6ce10-c157-422c-a722-b942bc93ed6b"
      },
      "execution_count": 36,
      "outputs": [
        {
          "output_type": "execute_result",
          "data": {
            "text/plain": [
              "(19180488, 10)"
            ]
          },
          "metadata": {},
          "execution_count": 36
        }
      ]
    },
    {
      "cell_type": "code",
      "source": [
        "cc = images[0].reshape(-1,1)\n",
        "cc.shape"
      ],
      "metadata": {
        "colab": {
          "base_uri": "https://localhost:8080/"
        },
        "id": "mgZBLP3eucME",
        "outputId": "0786207a-b633-4ea8-8062-61d6df0920d1"
      },
      "execution_count": 11,
      "outputs": [
        {
          "output_type": "execute_result",
          "data": {
            "text/plain": [
              "(19180488, 1)"
            ]
          },
          "metadata": {},
          "execution_count": 11
        }
      ]
    },
    {
      "cell_type": "code",
      "source": [
        "import pandas as pd\n",
        "arr = v1\n",
        " \n",
        "# display the array\n",
        "# print(arr)\n",
        " \n",
        "# convert array into dataframe\n",
        "\n",
        "d = {'b11','b12','b2', 'b3', 'b4', 'b5', 'b6', 'b7', 'b8a', 'b8'}\n",
        "\n",
        "DF = pd.DataFrame(arr)\n",
        "DF.columns = d\n",
        "DF\n",
        "# print(DF)\n",
        "# # save the dataframe as a csv file\n",
        "# DF.to_csv(\"data1.csv\")"
      ],
      "metadata": {
        "colab": {
          "base_uri": "https://localhost:8080/",
          "height": 424
        },
        "id": "8DBy_PklvPPa",
        "outputId": "25a07449-9a7d-4f1b-c4a4-41cc090af2fd"
      },
      "execution_count": 47,
      "outputs": [
        {
          "output_type": "execute_result",
          "data": {
            "text/plain": [
              "                    b8            b7            b2            b5  \\\n",
              "0        -3.402823e+38 -3.402823e+38 -3.402823e+38 -3.402823e+38   \n",
              "1        -3.402823e+38 -3.402823e+38 -3.402823e+38 -3.402823e+38   \n",
              "2        -3.402823e+38 -3.402823e+38 -3.402823e+38 -3.402823e+38   \n",
              "3        -3.402823e+38 -3.402823e+38 -3.402823e+38 -3.402823e+38   \n",
              "4        -3.402823e+38 -3.402823e+38 -3.402823e+38 -3.402823e+38   \n",
              "...                ...           ...           ...           ...   \n",
              "19180483 -3.402823e+38 -3.402823e+38 -3.402823e+38 -3.402823e+38   \n",
              "19180484 -3.402823e+38 -3.402823e+38 -3.402823e+38 -3.402823e+38   \n",
              "19180485 -3.402823e+38 -3.402823e+38 -3.402823e+38 -3.402823e+38   \n",
              "19180486 -3.402823e+38 -3.402823e+38 -3.402823e+38 -3.402823e+38   \n",
              "19180487 -3.402823e+38 -3.402823e+38 -3.402823e+38 -3.402823e+38   \n",
              "\n",
              "                    b3           b8a            b4           b12  \\\n",
              "0        -3.402823e+38 -3.402823e+38 -3.402823e+38 -3.402823e+38   \n",
              "1        -3.402823e+38 -3.402823e+38 -3.402823e+38 -3.402823e+38   \n",
              "2        -3.402823e+38 -3.402823e+38 -3.402823e+38 -3.402823e+38   \n",
              "3        -3.402823e+38 -3.402823e+38 -3.402823e+38 -3.402823e+38   \n",
              "4        -3.402823e+38 -3.402823e+38 -3.402823e+38 -3.402823e+38   \n",
              "...                ...           ...           ...           ...   \n",
              "19180483 -3.402823e+38 -3.402823e+38 -3.402823e+38 -3.402823e+38   \n",
              "19180484 -3.402823e+38 -3.402823e+38 -3.402823e+38 -3.402823e+38   \n",
              "19180485 -3.402823e+38 -3.402823e+38 -3.402823e+38 -3.402823e+38   \n",
              "19180486 -3.402823e+38 -3.402823e+38 -3.402823e+38 -3.402823e+38   \n",
              "19180487 -3.402823e+38 -3.402823e+38 -3.402823e+38 -3.402823e+38   \n",
              "\n",
              "                   b11            b6  \n",
              "0        -3.402823e+38 -3.402823e+38  \n",
              "1        -3.402823e+38 -3.402823e+38  \n",
              "2        -3.402823e+38 -3.402823e+38  \n",
              "3        -3.402823e+38 -3.402823e+38  \n",
              "4        -3.402823e+38 -3.402823e+38  \n",
              "...                ...           ...  \n",
              "19180483 -3.402823e+38 -3.402823e+38  \n",
              "19180484 -3.402823e+38 -3.402823e+38  \n",
              "19180485 -3.402823e+38 -3.402823e+38  \n",
              "19180486 -3.402823e+38 -3.402823e+38  \n",
              "19180487 -3.402823e+38 -3.402823e+38  \n",
              "\n",
              "[19180488 rows x 10 columns]"
            ],
            "text/html": [
              "\n",
              "  <div id=\"df-5cff31db-bdd4-4d30-a186-71f6c9971611\">\n",
              "    <div class=\"colab-df-container\">\n",
              "      <div>\n",
              "<style scoped>\n",
              "    .dataframe tbody tr th:only-of-type {\n",
              "        vertical-align: middle;\n",
              "    }\n",
              "\n",
              "    .dataframe tbody tr th {\n",
              "        vertical-align: top;\n",
              "    }\n",
              "\n",
              "    .dataframe thead th {\n",
              "        text-align: right;\n",
              "    }\n",
              "</style>\n",
              "<table border=\"1\" class=\"dataframe\">\n",
              "  <thead>\n",
              "    <tr style=\"text-align: right;\">\n",
              "      <th></th>\n",
              "      <th>b8</th>\n",
              "      <th>b7</th>\n",
              "      <th>b2</th>\n",
              "      <th>b5</th>\n",
              "      <th>b3</th>\n",
              "      <th>b8a</th>\n",
              "      <th>b4</th>\n",
              "      <th>b12</th>\n",
              "      <th>b11</th>\n",
              "      <th>b6</th>\n",
              "    </tr>\n",
              "  </thead>\n",
              "  <tbody>\n",
              "    <tr>\n",
              "      <th>0</th>\n",
              "      <td>-3.402823e+38</td>\n",
              "      <td>-3.402823e+38</td>\n",
              "      <td>-3.402823e+38</td>\n",
              "      <td>-3.402823e+38</td>\n",
              "      <td>-3.402823e+38</td>\n",
              "      <td>-3.402823e+38</td>\n",
              "      <td>-3.402823e+38</td>\n",
              "      <td>-3.402823e+38</td>\n",
              "      <td>-3.402823e+38</td>\n",
              "      <td>-3.402823e+38</td>\n",
              "    </tr>\n",
              "    <tr>\n",
              "      <th>1</th>\n",
              "      <td>-3.402823e+38</td>\n",
              "      <td>-3.402823e+38</td>\n",
              "      <td>-3.402823e+38</td>\n",
              "      <td>-3.402823e+38</td>\n",
              "      <td>-3.402823e+38</td>\n",
              "      <td>-3.402823e+38</td>\n",
              "      <td>-3.402823e+38</td>\n",
              "      <td>-3.402823e+38</td>\n",
              "      <td>-3.402823e+38</td>\n",
              "      <td>-3.402823e+38</td>\n",
              "    </tr>\n",
              "    <tr>\n",
              "      <th>2</th>\n",
              "      <td>-3.402823e+38</td>\n",
              "      <td>-3.402823e+38</td>\n",
              "      <td>-3.402823e+38</td>\n",
              "      <td>-3.402823e+38</td>\n",
              "      <td>-3.402823e+38</td>\n",
              "      <td>-3.402823e+38</td>\n",
              "      <td>-3.402823e+38</td>\n",
              "      <td>-3.402823e+38</td>\n",
              "      <td>-3.402823e+38</td>\n",
              "      <td>-3.402823e+38</td>\n",
              "    </tr>\n",
              "    <tr>\n",
              "      <th>3</th>\n",
              "      <td>-3.402823e+38</td>\n",
              "      <td>-3.402823e+38</td>\n",
              "      <td>-3.402823e+38</td>\n",
              "      <td>-3.402823e+38</td>\n",
              "      <td>-3.402823e+38</td>\n",
              "      <td>-3.402823e+38</td>\n",
              "      <td>-3.402823e+38</td>\n",
              "      <td>-3.402823e+38</td>\n",
              "      <td>-3.402823e+38</td>\n",
              "      <td>-3.402823e+38</td>\n",
              "    </tr>\n",
              "    <tr>\n",
              "      <th>4</th>\n",
              "      <td>-3.402823e+38</td>\n",
              "      <td>-3.402823e+38</td>\n",
              "      <td>-3.402823e+38</td>\n",
              "      <td>-3.402823e+38</td>\n",
              "      <td>-3.402823e+38</td>\n",
              "      <td>-3.402823e+38</td>\n",
              "      <td>-3.402823e+38</td>\n",
              "      <td>-3.402823e+38</td>\n",
              "      <td>-3.402823e+38</td>\n",
              "      <td>-3.402823e+38</td>\n",
              "    </tr>\n",
              "    <tr>\n",
              "      <th>...</th>\n",
              "      <td>...</td>\n",
              "      <td>...</td>\n",
              "      <td>...</td>\n",
              "      <td>...</td>\n",
              "      <td>...</td>\n",
              "      <td>...</td>\n",
              "      <td>...</td>\n",
              "      <td>...</td>\n",
              "      <td>...</td>\n",
              "      <td>...</td>\n",
              "    </tr>\n",
              "    <tr>\n",
              "      <th>19180483</th>\n",
              "      <td>-3.402823e+38</td>\n",
              "      <td>-3.402823e+38</td>\n",
              "      <td>-3.402823e+38</td>\n",
              "      <td>-3.402823e+38</td>\n",
              "      <td>-3.402823e+38</td>\n",
              "      <td>-3.402823e+38</td>\n",
              "      <td>-3.402823e+38</td>\n",
              "      <td>-3.402823e+38</td>\n",
              "      <td>-3.402823e+38</td>\n",
              "      <td>-3.402823e+38</td>\n",
              "    </tr>\n",
              "    <tr>\n",
              "      <th>19180484</th>\n",
              "      <td>-3.402823e+38</td>\n",
              "      <td>-3.402823e+38</td>\n",
              "      <td>-3.402823e+38</td>\n",
              "      <td>-3.402823e+38</td>\n",
              "      <td>-3.402823e+38</td>\n",
              "      <td>-3.402823e+38</td>\n",
              "      <td>-3.402823e+38</td>\n",
              "      <td>-3.402823e+38</td>\n",
              "      <td>-3.402823e+38</td>\n",
              "      <td>-3.402823e+38</td>\n",
              "    </tr>\n",
              "    <tr>\n",
              "      <th>19180485</th>\n",
              "      <td>-3.402823e+38</td>\n",
              "      <td>-3.402823e+38</td>\n",
              "      <td>-3.402823e+38</td>\n",
              "      <td>-3.402823e+38</td>\n",
              "      <td>-3.402823e+38</td>\n",
              "      <td>-3.402823e+38</td>\n",
              "      <td>-3.402823e+38</td>\n",
              "      <td>-3.402823e+38</td>\n",
              "      <td>-3.402823e+38</td>\n",
              "      <td>-3.402823e+38</td>\n",
              "    </tr>\n",
              "    <tr>\n",
              "      <th>19180486</th>\n",
              "      <td>-3.402823e+38</td>\n",
              "      <td>-3.402823e+38</td>\n",
              "      <td>-3.402823e+38</td>\n",
              "      <td>-3.402823e+38</td>\n",
              "      <td>-3.402823e+38</td>\n",
              "      <td>-3.402823e+38</td>\n",
              "      <td>-3.402823e+38</td>\n",
              "      <td>-3.402823e+38</td>\n",
              "      <td>-3.402823e+38</td>\n",
              "      <td>-3.402823e+38</td>\n",
              "    </tr>\n",
              "    <tr>\n",
              "      <th>19180487</th>\n",
              "      <td>-3.402823e+38</td>\n",
              "      <td>-3.402823e+38</td>\n",
              "      <td>-3.402823e+38</td>\n",
              "      <td>-3.402823e+38</td>\n",
              "      <td>-3.402823e+38</td>\n",
              "      <td>-3.402823e+38</td>\n",
              "      <td>-3.402823e+38</td>\n",
              "      <td>-3.402823e+38</td>\n",
              "      <td>-3.402823e+38</td>\n",
              "      <td>-3.402823e+38</td>\n",
              "    </tr>\n",
              "  </tbody>\n",
              "</table>\n",
              "<p>19180488 rows × 10 columns</p>\n",
              "</div>\n",
              "      <button class=\"colab-df-convert\" onclick=\"convertToInteractive('df-5cff31db-bdd4-4d30-a186-71f6c9971611')\"\n",
              "              title=\"Convert this dataframe to an interactive table.\"\n",
              "              style=\"display:none;\">\n",
              "        \n",
              "  <svg xmlns=\"http://www.w3.org/2000/svg\" height=\"24px\"viewBox=\"0 0 24 24\"\n",
              "       width=\"24px\">\n",
              "    <path d=\"M0 0h24v24H0V0z\" fill=\"none\"/>\n",
              "    <path d=\"M18.56 5.44l.94 2.06.94-2.06 2.06-.94-2.06-.94-.94-2.06-.94 2.06-2.06.94zm-11 1L8.5 8.5l.94-2.06 2.06-.94-2.06-.94L8.5 2.5l-.94 2.06-2.06.94zm10 10l.94 2.06.94-2.06 2.06-.94-2.06-.94-.94-2.06-.94 2.06-2.06.94z\"/><path d=\"M17.41 7.96l-1.37-1.37c-.4-.4-.92-.59-1.43-.59-.52 0-1.04.2-1.43.59L10.3 9.45l-7.72 7.72c-.78.78-.78 2.05 0 2.83L4 21.41c.39.39.9.59 1.41.59.51 0 1.02-.2 1.41-.59l7.78-7.78 2.81-2.81c.8-.78.8-2.07 0-2.86zM5.41 20L4 18.59l7.72-7.72 1.47 1.35L5.41 20z\"/>\n",
              "  </svg>\n",
              "      </button>\n",
              "      \n",
              "  <style>\n",
              "    .colab-df-container {\n",
              "      display:flex;\n",
              "      flex-wrap:wrap;\n",
              "      gap: 12px;\n",
              "    }\n",
              "\n",
              "    .colab-df-convert {\n",
              "      background-color: #E8F0FE;\n",
              "      border: none;\n",
              "      border-radius: 50%;\n",
              "      cursor: pointer;\n",
              "      display: none;\n",
              "      fill: #1967D2;\n",
              "      height: 32px;\n",
              "      padding: 0 0 0 0;\n",
              "      width: 32px;\n",
              "    }\n",
              "\n",
              "    .colab-df-convert:hover {\n",
              "      background-color: #E2EBFA;\n",
              "      box-shadow: 0px 1px 2px rgba(60, 64, 67, 0.3), 0px 1px 3px 1px rgba(60, 64, 67, 0.15);\n",
              "      fill: #174EA6;\n",
              "    }\n",
              "\n",
              "    [theme=dark] .colab-df-convert {\n",
              "      background-color: #3B4455;\n",
              "      fill: #D2E3FC;\n",
              "    }\n",
              "\n",
              "    [theme=dark] .colab-df-convert:hover {\n",
              "      background-color: #434B5C;\n",
              "      box-shadow: 0px 1px 3px 1px rgba(0, 0, 0, 0.15);\n",
              "      filter: drop-shadow(0px 1px 2px rgba(0, 0, 0, 0.3));\n",
              "      fill: #FFFFFF;\n",
              "    }\n",
              "  </style>\n",
              "\n",
              "      <script>\n",
              "        const buttonEl =\n",
              "          document.querySelector('#df-5cff31db-bdd4-4d30-a186-71f6c9971611 button.colab-df-convert');\n",
              "        buttonEl.style.display =\n",
              "          google.colab.kernel.accessAllowed ? 'block' : 'none';\n",
              "\n",
              "        async function convertToInteractive(key) {\n",
              "          const element = document.querySelector('#df-5cff31db-bdd4-4d30-a186-71f6c9971611');\n",
              "          const dataTable =\n",
              "            await google.colab.kernel.invokeFunction('convertToInteractive',\n",
              "                                                     [key], {});\n",
              "          if (!dataTable) return;\n",
              "\n",
              "          const docLinkHtml = 'Like what you see? Visit the ' +\n",
              "            '<a target=\"_blank\" href=https://colab.research.google.com/notebooks/data_table.ipynb>data table notebook</a>'\n",
              "            + ' to learn more about interactive tables.';\n",
              "          element.innerHTML = '';\n",
              "          dataTable['output_type'] = 'display_data';\n",
              "          await google.colab.output.renderOutput(dataTable, element);\n",
              "          const docLink = document.createElement('div');\n",
              "          docLink.innerHTML = docLinkHtml;\n",
              "          element.appendChild(docLink);\n",
              "        }\n",
              "      </script>\n",
              "    </div>\n",
              "  </div>\n",
              "  "
            ]
          },
          "metadata": {},
          "execution_count": 47
        }
      ]
    },
    {
      "cell_type": "code",
      "source": [
        "from osgeo import gdal\n",
        "\n",
        "# Open tif file\n",
        "ds = gdal.Open('/content/C1/download.B4.tif')\n",
        "\n",
        "\n",
        "# GDAL affine transform parameters, According to gdal documentation xoff/yoff are image left corner, a/e are pixel wight/height and b/d is rotation and is zero if image is north up. \n",
        "xoff, a, b, yoff, d, e = ds.GetGeoTransform()\n",
        "print(xoff, a, b, yoff, d, e)\n",
        "def pixel2coord(x, y):\n",
        " \"\"\"Returns global coordinates from pixel x, y coords\"\"\"\n",
        " xp = a * x + b * y + xoff\n",
        " yp = d * x + e * y + yoff\n",
        " return(xp, yp)\n",
        "\n",
        "# get columns and rows of your image from gdalinfo\n",
        "rows = ds.RasterYSize +1\n",
        "colms = ds.RasterxSize +1\n",
        "\n",
        "for row in  range(0,rows):\n",
        "  for col in  range(0,colms): \n",
        "    print(pixel2coord(col,row))"
      ],
      "metadata": {
        "colab": {
          "base_uri": "https://localhost:8080/"
        },
        "id": "fIcaQFxO7M6c",
        "outputId": "37352bbb-7f1b-4a5b-8da4-b7b0f6318143"
      },
      "execution_count": 48,
      "outputs": [
        {
          "output_type": "stream",
          "name": "stdout",
          "text": [
            "76.972043626781 8.983152841195255e-05 0.0 32.40229910532168 0.0 -8.983152841195288e-05\n"
          ]
        }
      ]
    },
    {
      "cell_type": "code",
      "source": [],
      "metadata": {
        "colab": {
          "base_uri": "https://localhost:8080/"
        },
        "id": "TaJJ1hwJ89lh",
        "outputId": "d0993059-6893-40f3-9f50-22773ffd925d"
      },
      "execution_count": 53,
      "outputs": [
        {
          "output_type": "stream",
          "name": "stdout",
          "text": [
            "3604 5322\n"
          ]
        }
      ]
    }
  ]
}