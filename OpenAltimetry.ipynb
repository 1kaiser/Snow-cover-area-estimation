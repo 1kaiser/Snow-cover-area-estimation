{
  "nbformat": 4,
  "nbformat_minor": 0,
  "metadata": {
    "colab": {
      "provenance": [],
      "authorship_tag": "ABX9TyNNykhu0dVkRg+e97kyhew+",
      "include_colab_link": true
    },
    "kernelspec": {
      "name": "python3",
      "display_name": "Python 3"
    },
    "language_info": {
      "name": "python"
    }
  },
  "cells": [
    {
      "cell_type": "markdown",
      "metadata": {
        "id": "view-in-github",
        "colab_type": "text"
      },
      "source": [
        "<a href=\"https://colab.research.google.com/github/1kaiser/Snow-cover-area-estimation/blob/main/OpenAltimetry.ipynb\" target=\"_parent\"><img src=\"https://colab.research.google.com/assets/colab-badge.svg\" alt=\"Open In Colab\"/></a>"
      ]
    },
    {
      "cell_type": "markdown",
      "source": [
        "OpenAltimetry ICESat-2: Elevation Workflow\n",
        "Overview\n",
        "\n",
        "\n",
        "This notebook pulls data from ICESat-2 surface-specific products - ATL06, ATL07, ATL08, ATL10, ATL12, ATL13 via the OpenAltimetry API.\n",
        "\n",
        "\n",
        "Instructions\n",
        "Replace the \"OA_API_URL\" string with the data copied from : \"Copy API URL\" from the OpenAltimetry elevation chart and start visualizing your data!\n",
        "Author: Minh Phan - mnphan@ucsd.edu. Based off the work of Luis Lopez - luis.lopez@nsidc.org"
      ],
      "metadata": {
        "id": "NsiwZBjN3RXl"
      }
    },
    {
      "cell_type": "markdown",
      "source": [
        "#**ALT06 LAND ICE ELEVATION**"
      ],
      "metadata": {
        "id": "C3VmPt218NGj"
      }
    },
    {
      "cell_type": "code",
      "source": [
        "import json\n",
        "import requests\n",
        "\n",
        "# Bounding box coordinates\n",
        "left   = 75.979728\n",
        "right  = 77.866667\n",
        "bottom = 31.453599\n",
        "top    = 32.416667\n",
        "\n",
        "date = '2019-10-26'\n",
        "trackid = 447\n",
        "\n",
        "\n",
        "OA_API_URL = 'https://openaltimetry.org/data/api/icesat2/atl06?date='+date+'&minx='+str(left)+'&miny='+str(bottom)+'&maxx='+str(right)+'&maxy='+str(top)+'&trackId='+str(trackid)+'&beamName=gt3r&beamName=gt3l&beamName=gt2r&beamName=gt2l&beamName=gt1r&beamName=gt1l&outputFormat=json'\n",
        "\n",
        "OA_API_URL += '&client=jupyter';\n",
        "\n",
        "print(OA_API_URL)\n",
        "\n",
        "r = requests.get(OA_API_URL)\n",
        "data = r.json()\n"
      ],
      "metadata": {
        "id": "Hm8GjOhUfGY3"
      },
      "execution_count": null,
      "outputs": []
    },
    {
      "cell_type": "code",
      "source": [
        "data"
      ],
      "metadata": {
        "id": "gMhI-lIKg-lI"
      },
      "execution_count": null,
      "outputs": []
    },
    {
      "cell_type": "markdown",
      "source": [
        "[dates and track id google sheet](https://docs.google.com/spreadsheets/d/13sjRCD2E2oyjkJwXOxeu5P3V6Ql9nW0KZe1gnsPFNOM/edit?usp=sharing)"
      ],
      "metadata": {
        "id": "wQmZanB03kSR"
      }
    },
    {
      "cell_type": "code",
      "source": [
        "a = [[\"2021-11-04\",653],\n",
        "[\"2021-11-08\",714],\n",
        "[\"2021-11-19\",889],\n",
        "[\"2021-11-23\",950],\n",
        "[\"2021-11-27\",1011],\n",
        "[\"2021-11-29\",1034],\n",
        "[\"2021-12-03\",1095],\n",
        "[\"2021-12-07\",1156],\n",
        "[\"2021-12-18\",1331],\n",
        "[\"2021-12-22\",5],\n",
        "[\"2021-12-26\",66],\n",
        "[\"2021-12-28\",89],]"
      ],
      "metadata": {
        "id": "row18Kzf3Cp9"
      },
      "execution_count": null,
      "outputs": []
    },
    {
      "cell_type": "code",
      "source": [
        "len(a)"
      ],
      "metadata": {
        "id": "hDCR8vIB4njg"
      },
      "execution_count": null,
      "outputs": []
    },
    {
      "cell_type": "code",
      "source": [
        "import pandas as pd\n",
        "import json\n",
        "import requests\n",
        "import plotly.graph_objects as go\n",
        "from plotly.offline import iplot\n",
        "from pathlib import Path  \n",
        "\n",
        "\n",
        "\n",
        "filepath = Path('2021PW.csv')  \n",
        "filepath.parent.mkdir(parents=True, exist_ok=True)  \n",
        "\n",
        "# Bounding box coordinates\n",
        "left   = 75.979728\n",
        "right  = 77.866667\n",
        "bottom = 31.453599\n",
        "top    = 32.416667\n",
        "\n",
        "date = '2019-10-26'\n",
        "trackid = 447\n",
        "\n",
        "# We populate a list with the elevation data using the OpenAltimetry API\n",
        "OA_API_URL = 'https://openaltimetry.org/data/api/icesat2/atl06?date='+date+'&minx='+str(left)+'&miny='+str(bottom)+'&maxx='+str(right)+'&maxy='+str(top)+'&trackId='+str(trackid)+'&beamName=gt3r&beamName=gt3l&beamName=gt2r&beamName=gt2l&beamName=gt1r&beamName=gt1l&outputFormat=json'\n",
        "\n",
        "OA_API_URL += '&client=jupyter';\n",
        "\n",
        "OA_BEAMS = ['gt1r', 'gt1l', 'gt2r', 'gt2l', 'gt3r', 'gt3l']\n",
        "\n",
        "df_beams = []\n",
        "oa_plots = []\n",
        "complete_dataset = []\n",
        "# This function will request the 6 tracks using OpenAltimetry's API\n",
        "def getData(url):\n",
        "    series = []\n",
        "    b_url = url\n",
        "\n",
        "    print('Requesting data from OA >>> ',b_url)\n",
        "    r = requests.get(b_url)\n",
        "    data = r.json()\n",
        "    return data\n",
        "\n",
        "\n",
        "b =[]\n",
        "for i in range(len(a)):\n",
        "  OA_API_URL = 'https://openaltimetry.org/data/api/icesat2/atl06?date='+a[i][0]+'&minx='+str(left)+'&miny='+str(bottom)+'&maxx='+str(right)+'&maxy='+str(top)+'&trackId='+str(a[i][1])+'&beamName=gt3r&beamName=gt3l&beamName=gt2r&beamName=gt2l&beamName=gt1r&beamName=gt1l&outputFormat=json'\n",
        "  OA_API_URL += '&client=jupyter';\n",
        "  b.append(getData(OA_API_URL))\n",
        "\n",
        "for elevation_data in b:\n",
        "  product = elevation_data[\"product\"]\n",
        "\n",
        "  print('Reading data product: ' + product)\n",
        "\n",
        "  for series_beam in elevation_data['series']:\n",
        "      if any(word in series_beam['beam'] for word in OA_BEAMS):\n",
        "          series = []\n",
        "          \n",
        "          data_name = 'lat_lon_elev'\n",
        "          if product == 'ATL08':\n",
        "              data_name = 'lat_lon_elev_canopy'\n",
        "\n",
        "          for p in series_beam[data_name]:\n",
        "              series.append({\n",
        "                  'lat': p[0],\n",
        "                  'lon': p[1],\n",
        "                  'h': p[2]\n",
        "              })\n",
        "              \n",
        "          print ('beam ' + series_beam['beam'] + ' - len = ' + str(len(series)))\n",
        "\n",
        "          if (len(series) > 0):\n",
        "              df = pd.DataFrame.from_dict(series)\n",
        "              df.name = series_beam['beam']\n",
        "              df_beams.append(df)\n",
        "\n",
        "\n",
        " \n",
        "              \n",
        "  print('df_beams len: ' + str(len(df_beams)))\n",
        "\n",
        "# <<<<SAVING TO .csv FILE>>>>\n",
        "pd.concat(df_beams).to_csv(filepath)\n",
        "\n",
        "for df in df_beams:\n",
        "    oa_plots.append(go.Scatter3d(name=df.name, x=df['lat'], y=df['lon'], z=df['h'],\n",
        "                                    marker=dict(\n",
        "                                        size=2,\n",
        "                                        color=df['h'],\n",
        "                                        colorscale='Viridis',   # choose a colorscale\n",
        "                                        opacity=0.8\n",
        "                                    ),\n",
        "                                    line=dict(\n",
        "                                        color='darkblue',\n",
        "                                        width=2\n",
        "                                    )\n",
        "                                )\n",
        "                   )\n",
        "\n",
        "layout = go.Layout(\n",
        "    width=1200,\n",
        "    height=600,\n",
        "    scene = dict(aspectmode = 'manual', aspectratio =dict(x=1, y=1, z=0.5),\n",
        "                 xaxis=dict(title='Latitude'), yaxis=dict(title='Longitude'), zaxis=dict(title='Elevation (m)'))\n",
        ")\n",
        "\n",
        "print('Plotting...')\n",
        "\n",
        "fig = go.Figure(data=oa_plots, layout=layout)\n",
        "\n",
        "iplot(fig)\n"
      ],
      "metadata": {
        "id": "tPUJ9UKu3KL9"
      },
      "execution_count": null,
      "outputs": []
    },
    {
      "cell_type": "code",
      "source": [
        "pd.concat(df_beams)\n"
      ],
      "metadata": {
        "id": "U4hRjdYH-ddA"
      },
      "execution_count": null,
      "outputs": []
    },
    {
      "cell_type": "markdown",
      "source": [
        "https://openaltimetry.org"
      ],
      "metadata": {
        "id": "11CgB8eoPdaF"
      }
    },
    {
      "cell_type": "code",
      "source": [
        "a = !curl -X GET \"https://openaltimetry.org/data/api/icesat2/atl06?date=2019-10-26&minx=75.979728&miny=31.453599&maxx=77.866667&maxy=32.416667&trackId=447&client=portal&outputFormat=json\" -H \"accept: */*\""
      ],
      "metadata": {
        "id": "2glB5CctPZNj"
      },
      "execution_count": null,
      "outputs": []
    },
    {
      "cell_type": "code",
      "source": [
        "a"
      ],
      "metadata": {
        "id": "NjUfXXIOQh0J"
      },
      "execution_count": null,
      "outputs": []
    },
    {
      "cell_type": "code",
      "source": [
        "!wget https://openaltimetry.org/data/api/icesat2/getTracks?date=2019-10-26&minx=75.979728&miny=31.453599&maxx=77.866667&maxy=32.416667&outputFormat=json -O a.json\n"
      ],
      "metadata": {
        "id": "GbupdDUNQY4J"
      },
      "execution_count": null,
      "outputs": []
    },
    {
      "cell_type": "markdown",
      "source": [
        "**VISUALIZATION**"
      ],
      "metadata": {
        "id": "v6uB41-a5aob"
      }
    },
    {
      "cell_type": "code",
      "source": [
        "a = np.asarray([[\t\"\tA\t\"\t,\t\"\t10/23/2018\t\"\t,\t]\t,\n",
        "[\t\"\tB\t\"\t,\t\"\t10/27/2018\t\"\t,\t]\t,\n",
        "[\t\"\tC\t\"\t,\t\"\t11/6/2018\t\"\t,\t]\t,\n",
        "[\t\"\tD\t\"\t,\t\"\t11/10/2018\t\"\t,\t]\t,\n",
        "[\t\"\tE\t\"\t,\t\"\t11/14/2018\t\"\t,\t]\t,\n",
        "[\t\"\tF\t\"\t,\t\"\t11/25/2018\t\"\t,\t]\t,\n",
        "[\t\"\tG\t\"\t,\t\"\t11/29/2018\t\"\t,\t]\t,\n",
        "[\t\"\tH\t\"\t,\t\"\t12/3/2018\t\"\t,\t]\t,\n",
        "[\t\"\tI\t\"\t,\t\"\t12/5/2018\t\"\t,\t]\t,\n",
        "[\t\"\tJ\t\"\t,\t\"\t12/13/2018\t\"\t,\t]\t,\n",
        "[\t\"\tK\t\"\t,\t\"\t12/24/2018\t\"\t,\t]\t,\n",
        "[\t\"\tL\t\"\t,\t\"\t12/28/2018\t\"\t,\t]\t,\n",
        "[\t\"\tM\t\"\t,\t\"\t1/1/2019\t\"\t,\t]\t,\n",
        "[\t\"\tN\t\"\t,\t\"\t1/3/2019\t\"\t,\t]\t])"
      ],
      "metadata": {
        "id": "0zdhXSDKFC_W"
      },
      "execution_count": 92,
      "outputs": []
    },
    {
      "cell_type": "code",
      "source": [
        "from numpy.core.fromnumeric import transpose\n",
        "a = transpose(a)\n",
        "a.shape"
      ],
      "metadata": {
        "id": "UMLAbc5dNzU4",
        "outputId": "1cdf61c5-800f-4e1e-9291-8383bd2540db",
        "colab": {
          "base_uri": "https://localhost:8080/"
        }
      },
      "execution_count": 93,
      "outputs": [
        {
          "output_type": "execute_result",
          "data": {
            "text/plain": [
              "(2, 14)"
            ]
          },
          "metadata": {},
          "execution_count": 93
        }
      ]
    },
    {
      "cell_type": "code",
      "source": [
        "b = np.ones((4,10))+np.ones((4,10))\n",
        "b.shape\n",
        "b"
      ],
      "metadata": {
        "id": "qOH4ZFBkLWjx",
        "outputId": "dfa4dea9-8d04-4745-a794-1d359f3a1182",
        "colab": {
          "base_uri": "https://localhost:8080/"
        }
      },
      "execution_count": 82,
      "outputs": [
        {
          "output_type": "execute_result",
          "data": {
            "text/plain": [
              "array([[2., 2., 2., 2., 2., 2., 2., 2., 2., 2.],\n",
              "       [2., 2., 2., 2., 2., 2., 2., 2., 2., 2.],\n",
              "       [2., 2., 2., 2., 2., 2., 2., 2., 2., 2.],\n",
              "       [2., 2., 2., 2., 2., 2., 2., 2., 2., 2.]])"
            ]
          },
          "metadata": {},
          "execution_count": 82
        }
      ]
    },
    {
      "cell_type": "code",
      "source": [
        "import matplotlib.pyplot as plt\n",
        "import numpy as np\n",
        "\n",
        "data1 = a\n",
        "\n",
        "colors1 = ['C{}'.format(i) for i in range(4)]\n",
        "\n",
        "lineoffsets1 = [-4, -3]\n",
        "linelengths1 = [1, 2 ]\n",
        "\n",
        "plt.eventplot(data1, colors=colors1, lineoffsets=lineoffsets1, linelengths=linelengths1)\n",
        "plt.title('Event Plot')\n",
        "plt.xlabel('Time(s)')\n",
        "plt.ylabel('Signal')"
      ],
      "metadata": {
        "id": "5tKsdTZ15ZSG",
        "colab": {
          "base_uri": "https://localhost:8080/",
          "height": 632
        },
        "outputId": "3e51b8e9-0a28-403e-c82c-d9455708e0a0"
      },
      "execution_count": 96,
      "outputs": [
        {
          "output_type": "error",
          "ename": "TypeError",
          "evalue": "ignored",
          "traceback": [
            "\u001b[0;31m---------------------------------------------------------------------------\u001b[0m",
            "\u001b[0;31mTypeError\u001b[0m                                 Traceback (most recent call last)",
            "\u001b[0;32m<ipython-input-96-308f964b9a7a>\u001b[0m in \u001b[0;36m<module>\u001b[0;34m\u001b[0m\n\u001b[1;32m      9\u001b[0m \u001b[0mlinelengths1\u001b[0m \u001b[0;34m=\u001b[0m \u001b[0;34m[\u001b[0m\u001b[0;36m1\u001b[0m\u001b[0;34m,\u001b[0m \u001b[0;36m2\u001b[0m \u001b[0;34m]\u001b[0m\u001b[0;34m\u001b[0m\u001b[0;34m\u001b[0m\u001b[0m\n\u001b[1;32m     10\u001b[0m \u001b[0;34m\u001b[0m\u001b[0m\n\u001b[0;32m---> 11\u001b[0;31m \u001b[0mplt\u001b[0m\u001b[0;34m.\u001b[0m\u001b[0meventplot\u001b[0m\u001b[0;34m(\u001b[0m\u001b[0mdata1\u001b[0m\u001b[0;34m,\u001b[0m \u001b[0mcolors\u001b[0m\u001b[0;34m=\u001b[0m\u001b[0mcolors1\u001b[0m\u001b[0;34m,\u001b[0m \u001b[0mlineoffsets\u001b[0m\u001b[0;34m=\u001b[0m\u001b[0mlineoffsets1\u001b[0m\u001b[0;34m,\u001b[0m \u001b[0mlinelengths\u001b[0m\u001b[0;34m=\u001b[0m\u001b[0mlinelengths1\u001b[0m\u001b[0;34m)\u001b[0m\u001b[0;34m\u001b[0m\u001b[0;34m\u001b[0m\u001b[0m\n\u001b[0m\u001b[1;32m     12\u001b[0m \u001b[0mplt\u001b[0m\u001b[0;34m.\u001b[0m\u001b[0mtitle\u001b[0m\u001b[0;34m(\u001b[0m\u001b[0;34m'Event Plot'\u001b[0m\u001b[0;34m)\u001b[0m\u001b[0;34m\u001b[0m\u001b[0;34m\u001b[0m\u001b[0m\n\u001b[1;32m     13\u001b[0m \u001b[0mplt\u001b[0m\u001b[0;34m.\u001b[0m\u001b[0mxlabel\u001b[0m\u001b[0;34m(\u001b[0m\u001b[0;34m'Time(s)'\u001b[0m\u001b[0;34m)\u001b[0m\u001b[0;34m\u001b[0m\u001b[0;34m\u001b[0m\u001b[0m\n",
            "\u001b[0;32m/usr/local/lib/python3.8/dist-packages/matplotlib/pyplot.py\u001b[0m in \u001b[0;36meventplot\u001b[0;34m(positions, orientation, lineoffsets, linelengths, linewidths, colors, linestyles, data, **kwargs)\u001b[0m\n\u001b[1;32m   2536\u001b[0m         \u001b[0mlinelengths\u001b[0m\u001b[0;34m=\u001b[0m\u001b[0;36m1\u001b[0m\u001b[0;34m,\u001b[0m \u001b[0mlinewidths\u001b[0m\u001b[0;34m=\u001b[0m\u001b[0;32mNone\u001b[0m\u001b[0;34m,\u001b[0m \u001b[0mcolors\u001b[0m\u001b[0;34m=\u001b[0m\u001b[0;32mNone\u001b[0m\u001b[0;34m,\u001b[0m\u001b[0;34m\u001b[0m\u001b[0;34m\u001b[0m\u001b[0m\n\u001b[1;32m   2537\u001b[0m         linestyles='solid', *, data=None, **kwargs):\n\u001b[0;32m-> 2538\u001b[0;31m     return gca().eventplot(\n\u001b[0m\u001b[1;32m   2539\u001b[0m         \u001b[0mpositions\u001b[0m\u001b[0;34m,\u001b[0m \u001b[0morientation\u001b[0m\u001b[0;34m=\u001b[0m\u001b[0morientation\u001b[0m\u001b[0;34m,\u001b[0m \u001b[0mlineoffsets\u001b[0m\u001b[0;34m=\u001b[0m\u001b[0mlineoffsets\u001b[0m\u001b[0;34m,\u001b[0m\u001b[0;34m\u001b[0m\u001b[0;34m\u001b[0m\u001b[0m\n\u001b[1;32m   2540\u001b[0m         \u001b[0mlinelengths\u001b[0m\u001b[0;34m=\u001b[0m\u001b[0mlinelengths\u001b[0m\u001b[0;34m,\u001b[0m \u001b[0mlinewidths\u001b[0m\u001b[0;34m=\u001b[0m\u001b[0mlinewidths\u001b[0m\u001b[0;34m,\u001b[0m \u001b[0mcolors\u001b[0m\u001b[0;34m=\u001b[0m\u001b[0mcolors\u001b[0m\u001b[0;34m,\u001b[0m\u001b[0;34m\u001b[0m\u001b[0;34m\u001b[0m\u001b[0m\n",
            "\u001b[0;32m/usr/local/lib/python3.8/dist-packages/matplotlib/__init__.py\u001b[0m in \u001b[0;36minner\u001b[0;34m(ax, data, *args, **kwargs)\u001b[0m\n\u001b[1;32m   1563\u001b[0m     \u001b[0;32mdef\u001b[0m \u001b[0minner\u001b[0m\u001b[0;34m(\u001b[0m\u001b[0max\u001b[0m\u001b[0;34m,\u001b[0m \u001b[0;34m*\u001b[0m\u001b[0margs\u001b[0m\u001b[0;34m,\u001b[0m \u001b[0mdata\u001b[0m\u001b[0;34m=\u001b[0m\u001b[0;32mNone\u001b[0m\u001b[0;34m,\u001b[0m \u001b[0;34m**\u001b[0m\u001b[0mkwargs\u001b[0m\u001b[0;34m)\u001b[0m\u001b[0;34m:\u001b[0m\u001b[0;34m\u001b[0m\u001b[0;34m\u001b[0m\u001b[0m\n\u001b[1;32m   1564\u001b[0m         \u001b[0;32mif\u001b[0m \u001b[0mdata\u001b[0m \u001b[0;32mis\u001b[0m \u001b[0;32mNone\u001b[0m\u001b[0;34m:\u001b[0m\u001b[0;34m\u001b[0m\u001b[0;34m\u001b[0m\u001b[0m\n\u001b[0;32m-> 1565\u001b[0;31m             \u001b[0;32mreturn\u001b[0m \u001b[0mfunc\u001b[0m\u001b[0;34m(\u001b[0m\u001b[0max\u001b[0m\u001b[0;34m,\u001b[0m \u001b[0;34m*\u001b[0m\u001b[0mmap\u001b[0m\u001b[0;34m(\u001b[0m\u001b[0msanitize_sequence\u001b[0m\u001b[0;34m,\u001b[0m \u001b[0margs\u001b[0m\u001b[0;34m)\u001b[0m\u001b[0;34m,\u001b[0m \u001b[0;34m**\u001b[0m\u001b[0mkwargs\u001b[0m\u001b[0;34m)\u001b[0m\u001b[0;34m\u001b[0m\u001b[0;34m\u001b[0m\u001b[0m\n\u001b[0m\u001b[1;32m   1566\u001b[0m \u001b[0;34m\u001b[0m\u001b[0m\n\u001b[1;32m   1567\u001b[0m         \u001b[0mbound\u001b[0m \u001b[0;34m=\u001b[0m \u001b[0mnew_sig\u001b[0m\u001b[0;34m.\u001b[0m\u001b[0mbind\u001b[0m\u001b[0;34m(\u001b[0m\u001b[0max\u001b[0m\u001b[0;34m,\u001b[0m \u001b[0;34m*\u001b[0m\u001b[0margs\u001b[0m\u001b[0;34m,\u001b[0m \u001b[0;34m**\u001b[0m\u001b[0mkwargs\u001b[0m\u001b[0;34m)\u001b[0m\u001b[0;34m\u001b[0m\u001b[0;34m\u001b[0m\u001b[0m\n",
            "\u001b[0;32m/usr/local/lib/python3.8/dist-packages/matplotlib/axes/_axes.py\u001b[0m in \u001b[0;36meventplot\u001b[0;34m(self, positions, orientation, lineoffsets, linelengths, linewidths, colors, linestyles, **kwargs)\u001b[0m\n\u001b[1;32m   1280\u001b[0m         \u001b[0;34m.\u001b[0m\u001b[0;34m.\u001b[0m \u001b[0mplot\u001b[0m\u001b[0;34m:\u001b[0m\u001b[0;34m:\u001b[0m \u001b[0mgallery\u001b[0m\u001b[0;34m/\u001b[0m\u001b[0mlines_bars_and_markers\u001b[0m\u001b[0;34m/\u001b[0m\u001b[0meventplot_demo\u001b[0m\u001b[0;34m.\u001b[0m\u001b[0mpy\u001b[0m\u001b[0;34m\u001b[0m\u001b[0;34m\u001b[0m\u001b[0m\n\u001b[1;32m   1281\u001b[0m         \"\"\"\n\u001b[0;32m-> 1282\u001b[0;31m         self._process_unit_info(xdata=positions,\n\u001b[0m\u001b[1;32m   1283\u001b[0m                                 \u001b[0mydata\u001b[0m\u001b[0;34m=\u001b[0m\u001b[0;34m[\u001b[0m\u001b[0mlineoffsets\u001b[0m\u001b[0;34m,\u001b[0m \u001b[0mlinelengths\u001b[0m\u001b[0;34m]\u001b[0m\u001b[0;34m,\u001b[0m\u001b[0;34m\u001b[0m\u001b[0;34m\u001b[0m\u001b[0m\n\u001b[1;32m   1284\u001b[0m                                 kwargs=kwargs)\n",
            "\u001b[0;32m/usr/local/lib/python3.8/dist-packages/matplotlib/axes/_base.py\u001b[0m in \u001b[0;36m_process_unit_info\u001b[0;34m(self, xdata, ydata, kwargs)\u001b[0m\n\u001b[1;32m   2071\u001b[0m             \u001b[0;32mreturn\u001b[0m \u001b[0mkwargs\u001b[0m\u001b[0;34m\u001b[0m\u001b[0;34m\u001b[0m\u001b[0m\n\u001b[1;32m   2072\u001b[0m \u001b[0;34m\u001b[0m\u001b[0m\n\u001b[0;32m-> 2073\u001b[0;31m         \u001b[0mkwargs\u001b[0m \u001b[0;34m=\u001b[0m \u001b[0m_process_single_axis\u001b[0m\u001b[0;34m(\u001b[0m\u001b[0mxdata\u001b[0m\u001b[0;34m,\u001b[0m \u001b[0mself\u001b[0m\u001b[0;34m.\u001b[0m\u001b[0mxaxis\u001b[0m\u001b[0;34m,\u001b[0m \u001b[0;34m'xunits'\u001b[0m\u001b[0;34m,\u001b[0m \u001b[0mkwargs\u001b[0m\u001b[0;34m)\u001b[0m\u001b[0;34m\u001b[0m\u001b[0;34m\u001b[0m\u001b[0m\n\u001b[0m\u001b[1;32m   2074\u001b[0m         \u001b[0mkwargs\u001b[0m \u001b[0;34m=\u001b[0m \u001b[0m_process_single_axis\u001b[0m\u001b[0;34m(\u001b[0m\u001b[0mydata\u001b[0m\u001b[0;34m,\u001b[0m \u001b[0mself\u001b[0m\u001b[0;34m.\u001b[0m\u001b[0myaxis\u001b[0m\u001b[0;34m,\u001b[0m \u001b[0;34m'yunits'\u001b[0m\u001b[0;34m,\u001b[0m \u001b[0mkwargs\u001b[0m\u001b[0;34m)\u001b[0m\u001b[0;34m\u001b[0m\u001b[0;34m\u001b[0m\u001b[0m\n\u001b[1;32m   2075\u001b[0m         \u001b[0;32mreturn\u001b[0m \u001b[0mkwargs\u001b[0m\u001b[0;34m\u001b[0m\u001b[0;34m\u001b[0m\u001b[0m\n",
            "\u001b[0;32m/usr/local/lib/python3.8/dist-packages/matplotlib/axes/_base.py\u001b[0m in \u001b[0;36m_process_single_axis\u001b[0;34m(data, axis, unit_name, kwargs)\u001b[0m\n\u001b[1;32m   2054\u001b[0m                 \u001b[0;31m# We only need to update if there is nothing set yet.\u001b[0m\u001b[0;34m\u001b[0m\u001b[0;34m\u001b[0m\u001b[0;34m\u001b[0m\u001b[0m\n\u001b[1;32m   2055\u001b[0m                 \u001b[0;32mif\u001b[0m \u001b[0;32mnot\u001b[0m \u001b[0maxis\u001b[0m\u001b[0;34m.\u001b[0m\u001b[0mhave_units\u001b[0m\u001b[0;34m(\u001b[0m\u001b[0;34m)\u001b[0m\u001b[0;34m:\u001b[0m\u001b[0;34m\u001b[0m\u001b[0;34m\u001b[0m\u001b[0m\n\u001b[0;32m-> 2056\u001b[0;31m                     \u001b[0maxis\u001b[0m\u001b[0;34m.\u001b[0m\u001b[0mupdate_units\u001b[0m\u001b[0;34m(\u001b[0m\u001b[0mdata\u001b[0m\u001b[0;34m)\u001b[0m\u001b[0;34m\u001b[0m\u001b[0;34m\u001b[0m\u001b[0m\n\u001b[0m\u001b[1;32m   2057\u001b[0m \u001b[0;34m\u001b[0m\u001b[0m\n\u001b[1;32m   2058\u001b[0m             \u001b[0;31m# Check for units in the kwargs, and if present update axis\u001b[0m\u001b[0;34m\u001b[0m\u001b[0;34m\u001b[0m\u001b[0;34m\u001b[0m\u001b[0m\n",
            "\u001b[0;32m/usr/local/lib/python3.8/dist-packages/matplotlib/axis.py\u001b[0m in \u001b[0;36mupdate_units\u001b[0;34m(self, data)\u001b[0m\n\u001b[1;32m   1514\u001b[0m         \u001b[0mneednew\u001b[0m \u001b[0;34m=\u001b[0m \u001b[0mself\u001b[0m\u001b[0;34m.\u001b[0m\u001b[0mconverter\u001b[0m \u001b[0;34m!=\u001b[0m \u001b[0mconverter\u001b[0m\u001b[0;34m\u001b[0m\u001b[0;34m\u001b[0m\u001b[0m\n\u001b[1;32m   1515\u001b[0m         \u001b[0mself\u001b[0m\u001b[0;34m.\u001b[0m\u001b[0mconverter\u001b[0m \u001b[0;34m=\u001b[0m \u001b[0mconverter\u001b[0m\u001b[0;34m\u001b[0m\u001b[0;34m\u001b[0m\u001b[0m\n\u001b[0;32m-> 1516\u001b[0;31m         \u001b[0mdefault\u001b[0m \u001b[0;34m=\u001b[0m \u001b[0mself\u001b[0m\u001b[0;34m.\u001b[0m\u001b[0mconverter\u001b[0m\u001b[0;34m.\u001b[0m\u001b[0mdefault_units\u001b[0m\u001b[0;34m(\u001b[0m\u001b[0mdata\u001b[0m\u001b[0;34m,\u001b[0m \u001b[0mself\u001b[0m\u001b[0;34m)\u001b[0m\u001b[0;34m\u001b[0m\u001b[0;34m\u001b[0m\u001b[0m\n\u001b[0m\u001b[1;32m   1517\u001b[0m         \u001b[0;32mif\u001b[0m \u001b[0mdefault\u001b[0m \u001b[0;32mis\u001b[0m \u001b[0;32mnot\u001b[0m \u001b[0;32mNone\u001b[0m \u001b[0;32mand\u001b[0m \u001b[0mself\u001b[0m\u001b[0;34m.\u001b[0m\u001b[0munits\u001b[0m \u001b[0;32mis\u001b[0m \u001b[0;32mNone\u001b[0m\u001b[0;34m:\u001b[0m\u001b[0;34m\u001b[0m\u001b[0;34m\u001b[0m\u001b[0m\n\u001b[1;32m   1518\u001b[0m             \u001b[0mself\u001b[0m\u001b[0;34m.\u001b[0m\u001b[0mset_units\u001b[0m\u001b[0;34m(\u001b[0m\u001b[0mdefault\u001b[0m\u001b[0;34m)\u001b[0m\u001b[0;34m\u001b[0m\u001b[0;34m\u001b[0m\u001b[0m\n",
            "\u001b[0;32m/usr/local/lib/python3.8/dist-packages/matplotlib/category.py\u001b[0m in \u001b[0;36mdefault_units\u001b[0;34m(data, axis)\u001b[0m\n\u001b[1;32m    105\u001b[0m         \u001b[0;31m# the conversion call stack is default_units -> axis_info -> convert\u001b[0m\u001b[0;34m\u001b[0m\u001b[0;34m\u001b[0m\u001b[0;34m\u001b[0m\u001b[0m\n\u001b[1;32m    106\u001b[0m         \u001b[0;32mif\u001b[0m \u001b[0maxis\u001b[0m\u001b[0;34m.\u001b[0m\u001b[0munits\u001b[0m \u001b[0;32mis\u001b[0m \u001b[0;32mNone\u001b[0m\u001b[0;34m:\u001b[0m\u001b[0;34m\u001b[0m\u001b[0;34m\u001b[0m\u001b[0m\n\u001b[0;32m--> 107\u001b[0;31m             \u001b[0maxis\u001b[0m\u001b[0;34m.\u001b[0m\u001b[0mset_units\u001b[0m\u001b[0;34m(\u001b[0m\u001b[0mUnitData\u001b[0m\u001b[0;34m(\u001b[0m\u001b[0mdata\u001b[0m\u001b[0;34m)\u001b[0m\u001b[0;34m)\u001b[0m\u001b[0;34m\u001b[0m\u001b[0;34m\u001b[0m\u001b[0m\n\u001b[0m\u001b[1;32m    108\u001b[0m         \u001b[0;32melse\u001b[0m\u001b[0;34m:\u001b[0m\u001b[0;34m\u001b[0m\u001b[0;34m\u001b[0m\u001b[0m\n\u001b[1;32m    109\u001b[0m             \u001b[0maxis\u001b[0m\u001b[0;34m.\u001b[0m\u001b[0munits\u001b[0m\u001b[0;34m.\u001b[0m\u001b[0mupdate\u001b[0m\u001b[0;34m(\u001b[0m\u001b[0mdata\u001b[0m\u001b[0;34m)\u001b[0m\u001b[0;34m\u001b[0m\u001b[0;34m\u001b[0m\u001b[0m\n",
            "\u001b[0;32m/usr/local/lib/python3.8/dist-packages/matplotlib/category.py\u001b[0m in \u001b[0;36m__init__\u001b[0;34m(self, data)\u001b[0m\n\u001b[1;32m    173\u001b[0m         \u001b[0mself\u001b[0m\u001b[0;34m.\u001b[0m\u001b[0m_counter\u001b[0m \u001b[0;34m=\u001b[0m \u001b[0mitertools\u001b[0m\u001b[0;34m.\u001b[0m\u001b[0mcount\u001b[0m\u001b[0;34m(\u001b[0m\u001b[0;34m)\u001b[0m\u001b[0;34m\u001b[0m\u001b[0;34m\u001b[0m\u001b[0m\n\u001b[1;32m    174\u001b[0m         \u001b[0;32mif\u001b[0m \u001b[0mdata\u001b[0m \u001b[0;32mis\u001b[0m \u001b[0;32mnot\u001b[0m \u001b[0;32mNone\u001b[0m\u001b[0;34m:\u001b[0m\u001b[0;34m\u001b[0m\u001b[0;34m\u001b[0m\u001b[0m\n\u001b[0;32m--> 175\u001b[0;31m             \u001b[0mself\u001b[0m\u001b[0;34m.\u001b[0m\u001b[0mupdate\u001b[0m\u001b[0;34m(\u001b[0m\u001b[0mdata\u001b[0m\u001b[0;34m)\u001b[0m\u001b[0;34m\u001b[0m\u001b[0;34m\u001b[0m\u001b[0m\n\u001b[0m\u001b[1;32m    176\u001b[0m \u001b[0;34m\u001b[0m\u001b[0m\n\u001b[1;32m    177\u001b[0m     \u001b[0;34m@\u001b[0m\u001b[0mstaticmethod\u001b[0m\u001b[0;34m\u001b[0m\u001b[0;34m\u001b[0m\u001b[0m\n",
            "\u001b[0;32m/usr/local/lib/python3.8/dist-packages/matplotlib/category.py\u001b[0m in \u001b[0;36mupdate\u001b[0;34m(self, data)\u001b[0m\n\u001b[1;32m    208\u001b[0m         \u001b[0;31m# check if convertible to number:\u001b[0m\u001b[0;34m\u001b[0m\u001b[0;34m\u001b[0m\u001b[0;34m\u001b[0m\u001b[0m\n\u001b[1;32m    209\u001b[0m         \u001b[0mconvertible\u001b[0m \u001b[0;34m=\u001b[0m \u001b[0;32mTrue\u001b[0m\u001b[0;34m\u001b[0m\u001b[0;34m\u001b[0m\u001b[0m\n\u001b[0;32m--> 210\u001b[0;31m         \u001b[0;32mfor\u001b[0m \u001b[0mval\u001b[0m \u001b[0;32min\u001b[0m \u001b[0mOrderedDict\u001b[0m\u001b[0;34m.\u001b[0m\u001b[0mfromkeys\u001b[0m\u001b[0;34m(\u001b[0m\u001b[0mdata\u001b[0m\u001b[0;34m)\u001b[0m\u001b[0;34m:\u001b[0m\u001b[0;34m\u001b[0m\u001b[0;34m\u001b[0m\u001b[0m\n\u001b[0m\u001b[1;32m    211\u001b[0m             \u001b[0;31m# OrderedDict just iterates over unique values in data.\u001b[0m\u001b[0;34m\u001b[0m\u001b[0;34m\u001b[0m\u001b[0;34m\u001b[0m\u001b[0m\n\u001b[1;32m    212\u001b[0m             \u001b[0mcbook\u001b[0m\u001b[0;34m.\u001b[0m\u001b[0m_check_isinstance\u001b[0m\u001b[0;34m(\u001b[0m\u001b[0;34m(\u001b[0m\u001b[0mstr\u001b[0m\u001b[0;34m,\u001b[0m \u001b[0mbytes\u001b[0m\u001b[0;34m)\u001b[0m\u001b[0;34m,\u001b[0m \u001b[0mvalue\u001b[0m\u001b[0;34m=\u001b[0m\u001b[0mval\u001b[0m\u001b[0;34m)\u001b[0m\u001b[0;34m\u001b[0m\u001b[0;34m\u001b[0m\u001b[0m\n",
            "\u001b[0;31mTypeError\u001b[0m: unhashable type: 'numpy.ndarray'"
          ]
        },
        {
          "output_type": "display_data",
          "data": {
            "text/plain": [
              "<Figure size 432x288 with 1 Axes>"
            ],
            "image/png": "[encoded data removed]"
          },
          "metadata": {
            "needs_background": "light"
          }
        }
      ]
    },
    {
      "cell_type": "markdown",
      "source": [
        "#**ALT08 GROUND AND CANOPY HEIGHT**"
      ],
      "metadata": {
        "id": "haWencvR8TnW"
      }
    },
    {
      "cell_type": "code",
      "source": [
        "import json\n",
        "import requests\n",
        "\n",
        "# Bounding box coordinates\n",
        "left   = 75.979728\n",
        "right  = 77.866667\n",
        "bottom = 31.453599\n",
        "top    = 32.416667\n",
        "\n",
        "date = '2019-10-26'\n",
        "trackid = 447\n",
        "\n",
        "\n",
        "OA_API_URL = 'https://openaltimetry.org/data/api/icesat2/atl08?date='+date+'&minx='+str(left)+'&miny='+str(bottom)+'&maxx='+str(right)+'&maxy='+str(top)+'&trackId='+str(trackid)+'&beamName=gt3r&beamName=gt3l&beamName=gt2r&beamName=gt2l&beamName=gt1r&beamName=gt1l&outputFormat=json'\n",
        "\n",
        "OA_API_URL += '&client=jupyter';\n",
        "\n",
        "print(OA_API_URL)\n",
        "\n",
        "r = requests.get(OA_API_URL)\n",
        "data = r.json()\n"
      ],
      "metadata": {
        "id": "ZxtQOrVg8jQx"
      },
      "execution_count": null,
      "outputs": []
    },
    {
      "cell_type": "code",
      "source": [
        "data"
      ],
      "metadata": {
        "id": "gz7yOzyK8jQy"
      },
      "execution_count": null,
      "outputs": []
    },
    {
      "cell_type": "code",
      "source": [
        "a = [[\"2022-07-01\",150],\n",
        "[\"2022-07-05\",211],\n",
        "[\"2022-07-17\",386],\n",
        "[\"2022-07-30\",592],\n",
        "[\"2022-08-03\",653],\n",
        "[\"2022-08-07\",714],\n",
        "[\"2022-08-19\",889],\n",
        "[\"2022-08-23\",950],\n",
        "[\"2022-08-27\",1011],\n",
        "[\"2022-09-21\",5],\n",
        "[\"2022-09-25\",66],\n",
        "[\"2022-09-26\",89],\n",
        "[\"2022-09-30\",150],\n",
        "[\"2022-10-04\",211],]"
      ],
      "metadata": {
        "id": "hmVbG4IR8jQy"
      },
      "execution_count": null,
      "outputs": []
    },
    {
      "cell_type": "code",
      "source": [
        "import pandas as pd\n",
        "import json\n",
        "import requests\n",
        "import plotly.graph_objects as go\n",
        "from plotly.offline import iplot\n",
        "from pathlib import Path  \n",
        "\n",
        "filepath = Path('ALT08_2022_MS.csv')  \n",
        "filepath.parent.mkdir(parents=True, exist_ok=True)  \n",
        "\n",
        "# Bounding box coordinates\n",
        "left   = 75.979728\n",
        "right  = 77.866667\n",
        "bottom = 31.453599\n",
        "top    = 32.416667\n",
        "\n",
        "date = '2019-10-26'\n",
        "trackid = 447\n",
        "\n",
        "# We populate a list with the elevation data using the OpenAltimetry API\n",
        "OA_API_URL = 'https://openaltimetry.org/data/api/icesat2/atl08?date='+date+'&minx='+str(left)+'&miny='+str(bottom)+'&maxx='+str(right)+'&maxy='+str(top)+'&trackId='+str(trackid)+'&beamName=gt3r&beamName=gt3l&beamName=gt2r&beamName=gt2l&beamName=gt1r&beamName=gt1l&outputFormat=json'\n",
        "\n",
        "OA_API_URL += '&client=jupyter';\n",
        "\n",
        "OA_BEAMS = ['gt1r', 'gt1l', 'gt2r', 'gt2l', 'gt3r', 'gt3l']\n",
        "\n",
        "df_beams = []\n",
        "oa_plots = []\n",
        "complete_dataset = []\n",
        "# This function will request the 6 tracks using OpenAltimetry's API\n",
        "def getData(url):\n",
        "    series = []\n",
        "    b_url = url\n",
        "\n",
        "    print('Requesting data from OA >>> ',b_url)\n",
        "    r = requests.get(b_url)\n",
        "    data = r.json()\n",
        "    return data\n",
        "\n",
        "\n",
        "b =[]\n",
        "for i in range(len(a)):\n",
        "  OA_API_URL = 'https://openaltimetry.org/data/api/icesat2/atl08?date='+a[i][0]+'&minx='+str(left)+'&miny='+str(bottom)+'&maxx='+str(right)+'&maxy='+str(top)+'&trackId='+str(a[i][1])+'&beamName=gt3r&beamName=gt3l&beamName=gt2r&beamName=gt2l&beamName=gt1r&beamName=gt1l&outputFormat=json'\n",
        "  OA_API_URL += '&client=jupyter';\n",
        "  b.append(getData(OA_API_URL))\n",
        "\n",
        "for elevation_data in b:\n",
        "  product = elevation_data[\"product\"]\n",
        "\n",
        "  print('Reading data product: ' + product)\n",
        "\n",
        "  for series_beam in elevation_data['series']:\n",
        "      if any(word in series_beam['beam'] for word in OA_BEAMS):\n",
        "          series = []\n",
        "          \n",
        "          data_name = 'lat_lon_elev'\n",
        "          if product == 'ATL08':\n",
        "              data_name = 'lat_lon_elev_canopy'\n",
        "\n",
        "          for p in series_beam[data_name]:\n",
        "              series.append({\n",
        "                  'lat': p[0],\n",
        "                  'lon': p[1],\n",
        "                  'h': p[2],\n",
        "                  'Canopy': p[3]\n",
        "              })\n",
        "              \n",
        "          print ('beam ' + series_beam['beam'] + ' - len = ' + str(len(series)))\n",
        "\n",
        "          if (len(series) > 0):\n",
        "              df = pd.DataFrame.from_dict(series)\n",
        "              df.name = series_beam['beam']\n",
        "              df_beams.append(df)\n",
        "\n",
        "\n",
        " \n",
        "              \n",
        "  print('df_beams len: ' + str(len(df_beams)))\n",
        "\n",
        "# <<<<SAVING TO .csv FILE>>>>\n",
        "pd.concat(df_beams).to_csv(filepath)\n",
        "\n",
        "for df in df_beams:\n",
        "    oa_plots.append(go.Scatter3d(name=df.name, x=df['lat'], y=df['lon'], z=df['h'],\n",
        "                                    marker=dict(\n",
        "                                        size=2,\n",
        "                                        color=df['h'],\n",
        "                                        colorscale='Viridis',   # choose a colorscale\n",
        "                                        opacity=0.8\n",
        "                                    ),\n",
        "                                    line=dict(\n",
        "                                        color='darkblue',\n",
        "                                        width=2\n",
        "                                    )\n",
        "                                )\n",
        "                   )\n",
        "\n",
        "layout = go.Layout(\n",
        "    width=1200,\n",
        "    height=600,\n",
        "    scene = dict(aspectmode = 'manual', aspectratio =dict(x=1, y=1, z=0.5),\n",
        "                 xaxis=dict(title='Latitude'), yaxis=dict(title='Longitude'), zaxis=dict(title='Elevation (m)'))\n",
        ")\n",
        "\n",
        "print('Plotting...')\n",
        "\n",
        "fig = go.Figure(data=oa_plots, layout=layout)\n",
        "\n",
        "iplot(fig)\n"
      ],
      "metadata": {
        "id": "VJX-BzWU8jQy"
      },
      "execution_count": null,
      "outputs": []
    }
  ]
}