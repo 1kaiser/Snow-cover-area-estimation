{
  "nbformat": 4,
  "nbformat_minor": 0,
  "metadata": {
    "colab": {
      "provenance": [],
      "include_colab_link": true
    },
    "kernelspec": {
      "name": "python3",
      "display_name": "Python 3"
    },
    "language_info": {
      "name": "python"
    },
    "accelerator": "GPU",
    "gpuClass": "standard"
  },
  "cells": [
    {
      "cell_type": "markdown",
      "metadata": {
        "id": "view-in-github",
        "colab_type": "text"
      },
      "source": [
        "<a href=\"https://colab.research.google.com/github/1kaiser/Snow-cover-area-estimation/blob/main/Serial_MLP_Image_Train_Inference_JAX.ipynb\" target=\"_parent\"><img src=\"https://colab.research.google.com/assets/colab-badge.svg\" alt=\"Open In Colab\"/></a>"
      ]
    },
    {
      "cell_type": "markdown",
      "source": [
        "##**setting up the data pipeline**"
      ],
      "metadata": {
        "id": "_IroJNv2LglP"
      }
    },
    {
      "cell_type": "code",
      "source": [
        "!python -m pip install jax==0.4.4 jaxlib==0.4.4"
      ],
      "metadata": {
        "id": "FGB9aEmX7ir3"
      },
      "execution_count": null,
      "outputs": []
    },
    {
      "cell_type": "code",
      "source": [
        "import tensorflow as tf\n",
        "import pathlib\n",
        "dir='/content/files'\n",
        "urls = 'https://github.com/1kaiser/Snow-cover-area-estimation/releases/download/v1/imagesfolder.zip'\n",
        "data_dir = tf.keras.utils.get_file(origin=urls,\n",
        "                                   fname='s',\n",
        "                                   cache_subdir= dir,\n",
        "                                   archive_format='auto',\n",
        "                                   untar=False,\n",
        "                                   extract=True)\n",
        "!rm -r {dir}/s\n",
        "data_dir = pathlib.Path(data_dir)"
      ],
      "metadata": {
        "id": "jZMIymWpLoHi"
      },
      "execution_count": null,
      "outputs": []
    },
    {
      "cell_type": "markdown",
      "source": [
        "# STAGE 1"
      ],
      "metadata": {
        "id": "W5NYZYcfKnmr"
      }
    },
    {
      "cell_type": "markdown",
      "source": [
        "**GeoTiff to Image & Image to Geotiff conversion**\n"
      ],
      "metadata": {
        "id": "v_QdbhBZLoHj"
      }
    },
    {
      "cell_type": "code",
      "source": [
        "import numpy as np\n",
        "import matplotlib.pyplot as plt\n",
        "import pandas as pd\n",
        "import os.path\n",
        "import re\n",
        "\n",
        "from osgeo import gdal\n",
        "from osgeo import gdal_array\n",
        "from osgeo import osr\n",
        "\n",
        "def get_gain_band(input_file):\n",
        "    \"\"\"get GAIN_BAND from meta file (*.tif.txt)\"\"\"\n",
        "     # define file name of *.tif.txt\n",
        "    ifile_txt = re.sub(r'.tif', '.tif.txt', input_file)\n",
        "    ld = open(ifile_txt)\n",
        "    lines = ld.readlines()\n",
        "    ld.close()\n",
        "    \n",
        "    gain_band = []\n",
        "    for line in lines:\n",
        "        if line.find(\"GAIN_BAND\") >= 0:\n",
        "             gain_band.append(float((re.split(' ', line)[1]).strip()))\n",
        "    return gain_band\n",
        "\n",
        "def tif2array(input_file, calc_gain=True):\n",
        "    \"\"\"\n",
        "    read GeoTiff and convert to numpy.ndarray.\n",
        "    Inputs:\n",
        "        input_file (str) : the name of input GeoTiff file.\n",
        "        calc_gain (bool) : wheter calc GAIN to DN  or not (defaul:True).\n",
        "    return:\n",
        "        image(np.array) : image for each bands\n",
        "        dataset : for gdal's data drive.\n",
        "    \"\"\"\n",
        "    dataset = gdal.Open(input_file, gdal.GA_ReadOnly)\n",
        "    # Allocate our array using the first band's datatype\n",
        "    image_datatype = dataset.GetRasterBand(1).DataType\n",
        "    image = np.zeros((dataset.RasterYSize, dataset.RasterXSize, dataset.RasterCount),\n",
        "                     dtype=float)\n",
        "    \n",
        "    if calc_gain == True:\n",
        "        # get gain\n",
        "        gain = get_gain_band(input_file)\n",
        "    \n",
        "    # Loop over all bands in dataset\n",
        "    for b in range(dataset.RasterCount):\n",
        "        # Remember, GDAL index is on 1, but Python is on 0 -- so we add 1 for our GDAL calls\n",
        "        band = dataset.GetRasterBand(b + 1)\n",
        "        # Read in the band's data into the third dimension of our array\n",
        "        if calc_gain == True:\n",
        "            # calc gain value for each bands\n",
        "            image[:, :, b] = band.ReadAsArray() * gain[b]\n",
        "        else:\n",
        "            image[:, :, b] = band.ReadAsArray()\n",
        "    return image, dataset\n",
        "\n",
        "def array2raster(newRasterfn, dataset, array, dtype):\n",
        "    \"\"\"\n",
        "    save GTiff file from numpy.array\n",
        "    input:\n",
        "        newRasterfn: save file name\n",
        "        dataset : original tif file\n",
        "        array : numpy.array\n",
        "        dtype: Byte or Float32.\n",
        "    \"\"\"\n",
        "    cols = array.shape[1]\n",
        "    rows = array.shape[0]\n",
        "    originX, pixelWidth, b, originY, d, pixelHeight = dataset.GetGeoTransform() \n",
        "\n",
        "    driver = gdal.GetDriverByName('GTiff')\n",
        "\n",
        "    # set data type to save.\n",
        "    GDT_dtype = gdal.GDT_Unknown\n",
        "    if dtype == \"Byte\": \n",
        "        GDT_dtype = gdal.GDT_Byte\n",
        "    elif dtype == \"Float32\":\n",
        "        GDT_dtype = gdal.GDT_Float32\n",
        "    else:\n",
        "        print(\"Not supported data type.\")\n",
        "\n",
        "    # set number of band.\n",
        "    if array.ndim == 2:\n",
        "        band_num = 1\n",
        "    else:\n",
        "        band_num = array.shape[2]\n",
        "\n",
        "    outRaster = driver.Create(newRasterfn, cols, rows, band_num, GDT_dtype)\n",
        "    outRaster.SetGeoTransform((originX, pixelWidth, 0, originY, 0, pixelHeight))\n",
        "\n",
        "    # # Loop over all bands.\n",
        "    # for b in range(band_num):\n",
        "    #     outband = outRaster.GetRasterBand(b + 1)\n",
        "    #     # Read in the band's data into the third dimension of our array\n",
        "    #     if band_num == 1:\n",
        "    #         outband.WriteArray(array)\n",
        "    #     else:\n",
        "    #         outband.WriteArray(array[:,:,b])\n",
        "    outband = outRaster.GetRasterBand(1)\n",
        "    outband.WriteArray(array.reshape(rows, cols))\n",
        "    # setting srs from input tif file.\n",
        "    prj=dataset.GetProjection()\n",
        "    outRasterSRS = osr.SpatialReference(wkt=prj)\n",
        "    outRaster.SetProjection(outRasterSRS.ExportToWkt())\n",
        "    outband.FlushCache()\n",
        "    return newRasterfn"
      ],
      "metadata": {
        "id": "i13qZ8GyLoHj"
      },
      "execution_count": null,
      "outputs": []
    },
    {
      "cell_type": "code",
      "source": [
        "image_dir = r'/content/files/'\n",
        "\n",
        "#############################################################################\n",
        "prefix = \"sur_refl_\"\n",
        "end = [\"b01\", \"b02\", \"b03\", \"b04\", \"b05\", \"b06\", \"b07\", \"day_of_year\", \"qc_500m\", \"raz\", \"state_500m\", \"szen\", \"vzen\"]\n",
        "DayOY = \"_doy\\[0-9]+_aid0001\"\n",
        "fileExt = r'.tif'\n",
        "expression_b1 = prefix+end[0]\n",
        "expression_b2 = prefix+end[1]\n",
        "expression_b3 = prefix+end[2]\n",
        "expression_b4 = prefix+end[3]\n",
        "expression_b5 = prefix+end[4]\n",
        "expression_b6 = prefix+end[5]\n",
        "expression_b7 = prefix+end[6]\n",
        "\n",
        "\n",
        "imgs_list_b1 = [f for f in os.listdir(image_dir) if f.__contains__(expression_b1)]\n",
        "\n",
        "imgs_list_b1.sort(reverse=True)                     #<<<< to start file streaming from the last date 2022 >> 2021 >> 2020 ....\n"
      ],
      "metadata": {
        "id": "-Vlw7LYCLoHj"
      },
      "execution_count": null,
      "outputs": []
    },
    {
      "cell_type": "markdown",
      "source": [
        "**run if normalized input required i.e. sets cell values to >>> 0 and 1**"
      ],
      "metadata": {
        "id": "_p26shTJ3a2Y"
      }
    },
    {
      "cell_type": "code",
      "source": [
        "# from google.colab import output\n",
        "# temp_dir = r'/content/'\n",
        "# def ybatchedimages(images_path, image_list, batch_idx):\n",
        "#   images = []\n",
        "#   path = os.path.join(images_path, image_list[batch_idx])\n",
        "#   pathb2 = path.replace(expression_b1, expression_b2)\n",
        "#   pathb4 = path.replace(expression_b1, expression_b4)\n",
        "#   pathb6 = path.replace(expression_b1, expression_b6)\n",
        "\n",
        "#   #creating file NDSI\n",
        "#   !gdal_calc.py \\\n",
        "#     --overwrite \\\n",
        "#     --type=Float32 \\\n",
        "#     --NoDataValue=0 \\\n",
        "#     -A {pathb4} \\\n",
        "#     --A_band 1 \\\n",
        "#     -B {pathb6} \\\n",
        "#     --B_band 1 \\\n",
        "#     -C {pathb2} \\\n",
        "#     --C_band 1 \\\n",
        "#     --outfile={temp_dir}\"BothCheck_result_final.tif\" \\\n",
        "#     --calc=\"(((A.astype(float) - B)/(A.astype(float) + B))>=0.4)*(C.astype(float)/10000>0.11)\"\n",
        "\n",
        "#   pathout = temp_dir+str('BothCheck_result_final.tif')\n",
        "#   images.append(normalize(tif2array(pathout, 0)[0]))\n",
        "#   dataset = tif2array(pathout, 0)[1]\n",
        "#   !rm -r {temp_dir}\"BothCheck_result_final.tif\"\n",
        "#   output.clear()\n",
        "  \n",
        "#   return images, dataset\n",
        "\n",
        "\n",
        "# def normalize(arr):\n",
        "#     ''' Function to normalize an input array to 0-1 '''\n",
        "#     arr_min = arr.min()\n",
        "#     arr_max = arr.max()\n",
        "#     return (arr - arr_min) / (arr_max - arr_min)\n",
        "\n",
        "\n",
        "# import jax.numpy as jnp\n",
        "# def batchedimages(images_path, image_list, batch_idx):\n",
        "#   images = []\n",
        "#   path = os.path.join(images_path, image_list[batch_idx])\n",
        "#   v1 = normalize(tif2array(path.replace(expression_b1, expression_b1),0)[0])\n",
        "#   v2 = jnp.append(v1, normalize(tif2array(path.replace(expression_b1, expression_b2),0)[0]) , axis =2)\n",
        "#   v3 = jnp.append(v2, normalize(tif2array(path.replace(expression_b1, expression_b3),0)[0]) , axis =2)\n",
        "#   v4 = jnp.append(v3, normalize(tif2array(path.replace(expression_b1, expression_b4),0)[0]) , axis =2)\n",
        "#   v5 = jnp.append(v4, normalize(tif2array(path.replace(expression_b1, expression_b5),0)[0]) , axis =2)\n",
        "#   v6 = jnp.append(v5, normalize(tif2array(path.replace(expression_b1, expression_b6),0)[0]) , axis =2)\n",
        "#   v7 = jnp.append(v6, normalize(tif2array(path.replace(expression_b1, expression_b7),0)[0]) , axis =2)\n",
        "#   images.append(v7)\n",
        "#   w1 = tif2array(path.replace(expression_b1, expression_b1),0)[0]\n",
        "#   w2 = tif2array(path.replace(expression_b1, expression_b2),0)[0]\n",
        "#   w3 = tif2array(path.replace(expression_b1, expression_b3),0)[0]\n",
        "#   w4 = tif2array(path.replace(expression_b1, expression_b4),0)[0]\n",
        "#   w5 = tif2array(path.replace(expression_b1, expression_b5),0)[0]\n",
        "#   w6 = tif2array(path.replace(expression_b1, expression_b6),0)[0]\n",
        "#   w7 = tif2array(path.replace(expression_b1, expression_b7),0)[0]\n",
        "#   return images\n",
        "\n",
        "# import jax.random as random\n",
        "# import jax.numpy as jnp\n",
        "# batch_size = 1\n",
        "# no_of_batches = int(len(imgs_list_b1)/batch_size)\n",
        "# def data_stream(i, no_of_batches):\n",
        "#   return jnp.asarray(xbatchedimages(image_dir, imgs_list_b1, i)), jnp.asarray(ybatchedimages(image_dir, imgs_list_b1, i))"
      ],
      "metadata": {
        "id": "_y1J6gcmLoHk"
      },
      "execution_count": null,
      "outputs": []
    },
    {
      "cell_type": "markdown",
      "source": [
        "**un normalized input**"
      ],
      "metadata": {
        "id": "otRJafqV3Sf5"
      }
    },
    {
      "cell_type": "code",
      "source": [
        "from google.colab import output\n",
        "temp_dir = r'/content/'\n",
        "\n",
        "def ybatchedimages(images_path, image_list, batch_idx):\n",
        "  images = []\n",
        "  path = os.path.join(images_path, image_list[batch_idx])\n",
        "  pathb2 = path.replace(expression_b1, expression_b2)\n",
        "  pathb4 = path.replace(expression_b1, expression_b4)\n",
        "  pathb6 = path.replace(expression_b1, expression_b6)\n",
        "\n",
        "  #creating file NDSI\n",
        "  !gdal_calc.py \\\n",
        "    --overwrite \\\n",
        "    --type=Float32 \\\n",
        "    --NoDataValue=0 \\\n",
        "    -A {pathb4} \\\n",
        "    --A_band 1 \\\n",
        "    -B {pathb6} \\\n",
        "    --B_band 1 \\\n",
        "    -C {pathb2} \\\n",
        "    --C_band 1 \\\n",
        "    --outfile={temp_dir}\"BothCheck_result_final.tif\" \\\n",
        "    --calc=\"(((A.astype(float) - B)/(A.astype(float) + B))>=0.4)*(C.astype(float)/10000>0.11)\"\n",
        "\n",
        "  pathout = temp_dir+str('BothCheck_result_final.tif')\n",
        "  images.append(tif2array(pathout, 0)[0])\n",
        "  dataset = tif2array(pathout, 0)[1]\n",
        "  !rm -r {temp_dir}\"BothCheck_result_final.tif\"\n",
        "  output.clear()\n",
        "  \n",
        "  return images, dataset\n",
        "\n",
        "\n",
        "import jax.numpy as jnp\n",
        "def xbatchedimages(images_path, image_list, batch_idx):\n",
        "  images = []\n",
        "  path = os.path.join(images_path, image_list[batch_idx])\n",
        "  v1 = tif2array(path.replace(expression_b1, expression_b1),0)[0]\n",
        "  v2 = jnp.append(v1, tif2array(path.replace(expression_b1, expression_b2),0)[0] , axis =2)\n",
        "  v3 = jnp.append(v2, tif2array(path.replace(expression_b1, expression_b3),0)[0] , axis =2)\n",
        "  v4 = jnp.append(v3, tif2array(path.replace(expression_b1, expression_b4),0)[0] , axis =2)\n",
        "  v5 = jnp.append(v4, tif2array(path.replace(expression_b1, expression_b5),0)[0] , axis =2)\n",
        "  v6 = jnp.append(v5, tif2array(path.replace(expression_b1, expression_b6),0)[0] , axis =2)\n",
        "  v7 = jnp.append(v6, tif2array(path.replace(expression_b1, expression_b7),0)[0] , axis =2)\n",
        "  images.append(v7)\n",
        "  w1 = tif2array(path.replace(expression_b1, expression_b1),0)[0]\n",
        "  w2 = tif2array(path.replace(expression_b1, expression_b2),0)[0]\n",
        "  w3 = tif2array(path.replace(expression_b1, expression_b3),0)[0]\n",
        "  w4 = tif2array(path.replace(expression_b1, expression_b4),0)[0]\n",
        "  w5 = tif2array(path.replace(expression_b1, expression_b5),0)[0]\n",
        "  w6 = tif2array(path.replace(expression_b1, expression_b6),0)[0]\n",
        "  w7 = tif2array(path.replace(expression_b1, expression_b7),0)[0]\n",
        "  return images\n",
        "\n",
        "import jax.random as random\n",
        "import jax.numpy as jnp\n",
        "batch_size = 1\n",
        "no_of_batches = int(len(imgs_list_b1)/batch_size)\n",
        "def data_stream(i, no_of_batches):\n",
        "  return jnp.asarray(xbatchedimages(image_dir, imgs_list_b1, i)), jnp.asarray(ybatchedimages(image_dir, imgs_list_b1, i)[0]), ybatchedimages(image_dir, imgs_list_b1, i)[1]"
      ],
      "metadata": {
        "id": "zE0bvgJW23s3"
      },
      "execution_count": null,
      "outputs": []
    },
    {
      "cell_type": "markdown",
      "source": [
        "## **RUN 2 testing** "
      ],
      "metadata": {
        "id": "OOUqoXxBUCL2"
      }
    },
    {
      "cell_type": "markdown",
      "metadata": {
        "id": "zjgCYS3gUCL3"
      },
      "source": [
        "**Model and training code**\n",
        "Our model is a coordinate-based multilayer perceptron. In this example, for each input image coordinate $(x,y)$, the model predicts the associated color $(r,g,b)$ or any $(gray)$.\n",
        "\n",
        "![Network diagram](https://user-images.githubusercontent.com/3310961/85066930-ad444580-b164-11ea-9cc0-17494679e71f.png)"
      ]
    },
    {
      "cell_type": "markdown",
      "source": [
        "**POSITIONAL ENCODING BLOCK** "
      ],
      "metadata": {
        "id": "iIR4yJ1DUCL3"
      }
    },
    {
      "cell_type": "code",
      "source": [
        "#✅\n",
        "import jax\n",
        "import jax.numpy as jnp\n",
        "\n",
        "\n",
        "positional_encoding_dims = 6  # Number of positional encodings applied\n",
        "\n",
        "\n",
        "def positional_encoding(args):\n",
        "    image_height_x_image_width, cha = args.shape\n",
        "    print(args.shape)\n",
        "    inputs_freq = jax.vmap(lambda x: args * 2.0 ** x)(jnp.arange(positional_encoding_dims))\n",
        "    ##########################################################################################visual_start\n",
        "    a = plotter(inputs_freq)\n",
        "    a = np.array(a*100,  dtype=np.uint8)\n",
        "    ##########################################################################################visual_end\n",
        "\n",
        "    x = jnp.stack([jnp.sin(inputs_freq), jnp.cos(inputs_freq)])\n",
        "    ##########################################################################################visual_start\n",
        "    b1, b2 = x[0], x[1]\n",
        "    b1 = plotter(b1)\n",
        "    b1 = np.array(b1*100,  dtype=np.uint8)\n",
        "    b2 = plotter(b2)\n",
        "    b2 = np.array(b2*100,  dtype=np.uint8)\n",
        "    ##########################################################################################visual_end\n",
        "\n",
        "    x = x.swapaxes(0, 2).reshape([image_height_x_image_width, -1])\n",
        "    x = jnp.concatenate([args, x], axis= -1)\n",
        "    ##########################################################################################visual_start\n",
        "    c1 = SquareArray(x)\n",
        "\n",
        "    plt.axis('off')\n",
        "    f, axarr = plt.subplots(4, sharex=True, figsize=(20, 20))\n",
        "    plt.tight_layout() \n",
        "    axarr[0].axis('off')\n",
        "    axarr[0].imshow(a, cmap = 'magma' )\n",
        "    axarr[1].axis('off')\n",
        "    axarr[1].imshow(b1)\n",
        "    axarr[2].axis('off')\n",
        "    axarr[2].imshow(b2)\n",
        "    axarr[3].axis('off')\n",
        "    axarr[3].imshow(c1, cmap = 'terrain')\n",
        "\n",
        "    plt.tight_layout() \n",
        "    plt.axis('off')\n",
        "    plt.show()\n",
        "    ##########################################################################################visual_end\n",
        "\n",
        "    return x\n",
        "\n",
        "def batch_encoded(args):\n",
        "    img_list = []\n",
        "    for i in range(args.shape[0]):\n",
        "        c = args[i]\n",
        "        c = c.reshape(-1, c.shape[2])\n",
        "        p = positional_encoding(c)\n",
        "        img_list.append(p.reshape(args.shape[1],args.shape[2],p.shape[1]))\n",
        "        x = jnp.array(img_list)\n",
        "    return x\n",
        "\n"
      ],
      "metadata": {
        "id": "A9QJZJ50UCL3"
      },
      "execution_count": null,
      "outputs": []
    },
    {
      "cell_type": "markdown",
      "source": [
        "**MLP MODEL DEFINATION**\n",
        "Basically, passing input points through a simple Fourier Feature Mapping enables an MLP to learn high-frequency functions (such as an RGB image) in low-dimensional problem domains (such as a 2D coordinate of pixels)."
      ],
      "metadata": {
        "id": "AicbTZ7jUCL3"
      }
    },
    {
      "cell_type": "code",
      "source": [
        "#✅\n",
        "!python -m pip install -qq -U flax orbax\n",
        "# Orbax needs to enable asyncio in a Colab environment.\n",
        "!python -m pip install -qq nest_asyncio\n",
        "\n",
        "\n",
        "import jax\n",
        "import jax.numpy as jnp\n",
        "\n",
        "import flax\n",
        "import optax\n",
        "from typing import Any\n",
        "\n",
        "from jax import lax\n",
        "import flax.linen as nn\n",
        "from flax.training import train_state, common_utils\n",
        "\n",
        "apply_positional_encoding = True # Apply posittional encoding to the input or not\n",
        "ndl = 8 # num_dense_layers Number of dense layers in MLP\n",
        "dlw = 256 # dense_layer_width Dimentionality of dense layers' output space \n",
        "\n",
        "##########################################<< MLP MODEL >>#########################################\n",
        "class MLPModel(nn.Module):\n",
        "    dtype: Any = jnp.float32\n",
        "    precision: Any = lax.Precision.DEFAULT\n",
        "    apply_positional_encoding: bool = apply_positional_encoding\n",
        "    @nn.compact\n",
        "    def __call__(self, input_points):\n",
        "      x = batch_encoded(input_points) if self.apply_positional_encoding else input_points\n",
        "      for i in range(ndl):\n",
        "          x = nn.Dense(dlw,dtype=self.dtype,precision=self.precision)(x)\n",
        "          x = nn.relu(x)\n",
        "          x = jnp.concatenate([x, input_points], axis=-1) if i == 4 else x\n",
        "      x = nn.Dense(1, dtype=self.dtype, precision=self.precision)(x)\n",
        "      return x\n",
        "##########################################<< MLP MODEL >>#########################################"
      ],
      "metadata": {
        "id": "qLuo6LGHUCL3"
      },
      "execution_count": null,
      "outputs": []
    },
    {
      "cell_type": "markdown",
      "source": [
        "**initialize the module**"
      ],
      "metadata": {
        "id": "xGaXMyhpUCL3"
      }
    },
    {
      "cell_type": "code",
      "source": [
        "#✅\n",
        "!python -m pip install -q -U flax\n",
        "import optax\n",
        "from flax.training import train_state\n",
        "import jax.numpy as jnp\n",
        "import jax\n",
        "\n",
        "\n",
        "def Create_train_state(r_key, model, shape, learning_rate ) -> train_state.TrainState:\n",
        "    print(shape)\n",
        "    variables = model.init(r_key, jnp.ones(shape)) \n",
        "    optimizer = optax.adam(learning_rate) \n",
        "    return train_state.TrainState.create(\n",
        "        apply_fn = model.apply,\n",
        "        tx=optimizer,\n",
        "        params=variables['params']\n",
        "    )\n",
        "\n",
        "learning_rate = 1e-4\n",
        "model = MLPModel() # Instantiate the Model"
      ],
      "metadata": {
        "id": "FMRDDW0JUCL3"
      },
      "execution_count": null,
      "outputs": []
    },
    {
      "cell_type": "markdown",
      "source": [
        "**kernel visualization of the model being used**"
      ],
      "metadata": {
        "id": "zNqEeq2h2j9q"
      }
    },
    {
      "cell_type": "code",
      "source": [
        "def VisualizeKernel(state_parameters, epochs):\n",
        "  import cv2\n",
        "  from google.colab.patches import cv2_imshow\n",
        "  import numpy as np\n",
        "  params = state_parameters\n",
        "  a = []\n",
        "  for i in params:\n",
        "    kernel = params[str(i)]['kernel']\n",
        "    a.append(np.array(kernel))\n",
        "\n",
        "  import numpy as np\n",
        "  import matplotlib.pyplot as plt\n",
        "\n",
        "  rangex = len(params.keys())\n",
        "\n",
        "  fig, axs = plt.subplots(2, int(rangex/2)+1, figsize=(20,20))\n",
        "  images = [params[str(i)]['kernel'] for i in params]\n",
        "  for i, ax in enumerate(axs.flatten()):\n",
        "      if i < len(images):\n",
        "          ax.imshow(images[i], cmap='ocean')\n",
        "      else:\n",
        "          ax.remove()\n",
        "  plt.savefig(str(epochs)+'.png', dpi=500)\n",
        "  plt.show()\n",
        "\n"
      ],
      "metadata": {
        "id": "U_aRvrtSD1Tc"
      },
      "execution_count": null,
      "outputs": []
    },
    {
      "cell_type": "markdown",
      "source": [
        "**defining loss function**"
      ],
      "metadata": {
        "id": "z1SX4YdxUCL4"
      }
    },
    {
      "cell_type": "code",
      "source": [
        "#serial\n",
        "def image_difference_loss(logits, labels):\n",
        "    loss =  0.5 * jnp.mean((logits - labels) ** 2) \n",
        "    return loss\n",
        "    \n",
        "def compute_metrics(*, logits, labels):\n",
        "  loss = image_difference_loss(logits, labels)\n",
        "  metrics = {\n",
        "      'loss': loss,     #LOSS\n",
        "      'logits': logits, #PREDICTED IMAGE\n",
        "      'labels': labels  #ACTUAL IMAGE\n",
        "  }\n",
        "  return metrics"
      ],
      "metadata": {
        "id": "iYslN8Z7UCL4"
      },
      "execution_count": null,
      "outputs": []
    },
    {
      "cell_type": "markdown",
      "source": [
        "**train step defination**"
      ],
      "metadata": {
        "id": "aRW6GB7RUCL4"
      }
    },
    {
      "cell_type": "code",
      "source": [
        "#cpu serial\n",
        "import jax\n",
        "\n",
        "def train_step(state: train_state.TrainState, batch: jnp.asarray, rng):\n",
        "    image, label = batch  \n",
        "    def loss_fn(params):\n",
        "        logits = state.apply_fn({'params': params}, image);\n",
        "        loss =  image_difference_loss(logits, label);\n",
        "        return loss, logits\n",
        "\n",
        "    gradient_fn = jax.value_and_grad(loss_fn, has_aux=True)\n",
        "    (_, logits), grads = gradient_fn(state.params)\n",
        "    new_state = state.apply_gradients(grads=grads)\n",
        "    logs = compute_metrics(logits=logits, labels=label)\n",
        "    return new_state, logs\n",
        "\n",
        "import jax\n",
        "@jax.jit\n",
        "def eval_step(state, image):\n",
        "    logits = state.apply_fn({'params': state.params}, image)\n",
        "    return compute_metrics(logits=logits, labels=image)\n"
      ],
      "metadata": {
        "id": "KUYaqngCUCL4"
      },
      "execution_count": null,
      "outputs": []
    },
    {
      "cell_type": "markdown",
      "source": [
        "**sahi inspired slicing algorithm**"
      ],
      "metadata": {
        "id": "vzg8gvA1F69N"
      }
    },
    {
      "cell_type": "code",
      "execution_count": null,
      "metadata": {
        "id": "FUxTs7XpkfIv"
      },
      "outputs": [],
      "source": [
        "\n",
        "def get_slice_bboxes( image_height: int, image_width: int, slice_height: int = 224 , slice_width: int = 224, overlap_height_ratio: float = 0.0, overlap_width_ratio: float = 0.0 ):\n",
        "  slice_bboxes = []\n",
        "  y_max = y_min = 0\n",
        "\n",
        "  if slice_height and slice_width:\n",
        "      y_overlap = int(overlap_height_ratio * slice_height)\n",
        "      x_overlap = int(overlap_width_ratio * slice_width)\n",
        "  else:\n",
        "      raise ValueError(\"Compute type is not auto and slice width and height are not provided.\")\n",
        "\n",
        "  while y_max < image_height:\n",
        "      x_min = x_max = 0\n",
        "      y_max = y_min + slice_height\n",
        "      while x_max < image_width:\n",
        "          x_max = x_min + slice_width\n",
        "          if y_max > image_height or x_max > image_width:\n",
        "              xmax = min(image_width, x_max)\n",
        "              ymax = min(image_height, y_max)\n",
        "              xmin = max(0, xmax - slice_width)\n",
        "              ymin = max(0, ymax - slice_height)\n",
        "              slice_bboxes.append([xmin, ymin, xmax, ymax])\n",
        "          else:\n",
        "              slice_bboxes.append([x_min, y_min, x_max, y_max])\n",
        "          x_min = x_max - x_overlap\n",
        "      y_min = y_max - y_overlap\n",
        "  return slice_bboxes\n",
        "\n",
        "\n",
        "# b = data_stream(110, no_of_batches) ### only for test\n",
        "# print(b)\n",
        "\n",
        "def slicedImageInput(i, b):\n",
        "    b1 = b[0]\n",
        "    b1.swapaxes(1,3).swapaxes(2,3)\n",
        "    ######################<< xinput images sliced\n",
        "    ximages = []\n",
        "    for j in range(b1.shape[3]):\n",
        "      if (j==0):\n",
        "        a = b1[:, i[1]:i[3], i[0]:i[2], j]\n",
        "      else:\n",
        "        a = np.append(a, b1[:, i[1]:i[3], i[0]:i[2], j], axis = 0)\n",
        "    ximages = np.expand_dims(a, axis = 0)\n",
        "    ximages = ximages.swapaxes(1,2).swapaxes(2,3)\n",
        "\n",
        "    b2 = b[1]\n",
        "    b2.swapaxes(1,3).swapaxes(2,3)\n",
        "    ######################<< yinput images sliced\n",
        "    yimages = []\n",
        "    for j in range(b2.shape[3]):\n",
        "      if (j==0):\n",
        "        a = b2[:, i[1]:i[3], i[0]:i[2], j]\n",
        "      else:\n",
        "        a = np.append(a, b2[:, i[1]:i[3], i[0]:i[2], j], axis = 0)\n",
        "    yimages = np.expand_dims(a, axis = 0)\n",
        "    yimages = yimages.swapaxes(1,2).swapaxes(2,3)\n",
        "    print(jnp.asarray(ximages).shape, jnp.asarray(yimages).shape)\n",
        "    return jnp.asarray(ximages), jnp.asarray(yimages)\n",
        "\n",
        "# for i in get_slice_bboxes(b[0].shape[1], b[0].shape[2]):\n",
        "#   print(i, \"<< th slice\")\n",
        "#   slicedImageInput(i, b)\n",
        "\n",
        "# slicedImageInput(get_slice_bboxes(b[0].shape[1], b[0].shape[2])[0], b)"
      ]
    },
    {
      "cell_type": "markdown",
      "source": [
        "**visualization for values in positional encoder**"
      ],
      "metadata": {
        "id": "cy31IgdGGKf-"
      }
    },
    {
      "cell_type": "code",
      "source": [
        "import matplotlib.pyplot as plt\n",
        "import numpy as np\n",
        "\n",
        "\n",
        "####################\n",
        "batches = data_stream(0, no_of_batches)\n",
        "batches = slicedImageInput(get_slice_bboxes(batches[0].shape[1], batches[0].shape[2])[0], batches)\n",
        "newsize = (batches[0].shape[1], batches[0].shape[2])\n",
        "################3###\n",
        "def plotter(a):\n",
        "  channels = a.shape[2]\n",
        "  a1 = []\n",
        "  for i in range(a.shape[0]):\n",
        "    xxx = cv2.split(np.array(a[i].reshape((newsize[0], newsize[1], channels))))\n",
        "    # print(xxx[i].shape)\n",
        "    for j in range(len(xxx)):\n",
        "      if (j==0):\n",
        "        a1 = xxx[j]\n",
        "      else:\n",
        "        a1 = np.append(a1, xxx[j], 0)\n",
        "\n",
        "    if (i==0):\n",
        "      b1 = a1\n",
        "    else:\n",
        "      b1 = np.append(b1, a1, 1)\n",
        "  return b1\n",
        "\n",
        "\n",
        "def SquareArray(input):\n",
        "  limit = int(np.sqrt(input.shape[1]))+1\n",
        "  input = jnp.concatenate([input,jnp.zeros((input.shape[0], limit*limit-input.shape[1]))], axis=-1)\n",
        "  input = input.reshape((newsize[0], newsize[1], input.shape[1]))\n",
        "  \n",
        "  for i in range(int(limit)):\n",
        "    for j in range(int(limit)):\n",
        "\n",
        "      if (j==0):\n",
        "        a1 = input[:,:,i]\n",
        "      else:\n",
        "        a1 = np.append(a1, input[:,:,i], 1)\n",
        "\n",
        "    if (i==0):\n",
        "      b1 = a1\n",
        "    else:\n",
        "      b1 = np.append(b1, a1, 0)\n",
        "  return b1"
      ],
      "metadata": {
        "id": "OTmAa_aJOeFw"
      },
      "execution_count": null,
      "outputs": []
    },
    {
      "cell_type": "markdown",
      "source": [
        "**predicted output image viewing**"
      ],
      "metadata": {
        "id": "2xehIUuymlV8"
      }
    },
    {
      "cell_type": "code",
      "source": [
        "import cv2\n",
        "from google.colab.patches import cv2_imshow\n",
        "import numpy as np \n",
        "\n",
        "def show_image(pimage, oimage, newsize):\n",
        "  L1 = pimage[0]\n",
        "  predicted_image = np.array(pimage*255,  dtype=np.uint8).reshape(newsize) # This would be your image array\n",
        "  original_image = np.array(oimage*255,  dtype=np.uint8).reshape(newsize) # This would be your image array\n",
        "  a = cv2.vconcat([predicted_image, original_image])\n",
        "  cv2_imshow(a)"
      ],
      "metadata": {
        "id": "o_giLLzemoCD"
      },
      "execution_count": null,
      "outputs": []
    },
    {
      "cell_type": "markdown",
      "source": [
        "**Display weights of model**"
      ],
      "metadata": {
        "id": "5JEsK0XVGcwU"
      }
    },
    {
      "cell_type": "code",
      "source": [
        "def DisplaySTATE(STATE):\n",
        "  ################<< VISUALIZATION START >>#################\n",
        "  l = list(STATE.params.keys())\n",
        "  rows = 1\n",
        "  cols = len(l)\n",
        "  f, axarr = plt.subplots(rows, cols, sharex='col', sharey='row', figsize=(100, 15))\n",
        "  for step in range(len(l)):\n",
        "    # print(np.array(STATE.params[i]['kernel']),state.params[i]['kernel'].shape)\n",
        "    a = np.array(STATE.params[l[step]]['kernel'])*100000\n",
        "    axarr[step].axis('off')\n",
        "    axarr[step].imshow(a.reshape((a.shape[0], a.shape[1])), cmap = 'terrain')\n",
        "    print(a.shape)\n",
        "\n",
        "  plt.tight_layout()\n",
        "  plt.show()\n",
        "  ################<< VISUALIZATION END >>#################"
      ],
      "metadata": {
        "id": "42UicbV5GhmG"
      },
      "execution_count": null,
      "outputs": []
    },
    {
      "cell_type": "markdown",
      "source": [
        "**load best checkpoint**"
      ],
      "metadata": {
        "id": "iKs9w1iScR-v"
      }
    },
    {
      "cell_type": "code",
      "source": [
        "url = 'https://github.com/1kaiser/Snow-cover-area-estimation/releases/download/v1/checkpoint'\n",
        "!wget {url}\n",
        "!rm -r '/content/ckpts/'\n",
        "!mkdir -p '/content/ckpts/checkpoint_0'\n",
        "!mv '/content/checkpoint' '/content/ckpts/checkpoint_0/checkpoint'"
      ],
      "metadata": {
        "id": "UU7SwM7NcQ65"
      },
      "execution_count": null,
      "outputs": []
    },
    {
      "cell_type": "markdown",
      "source": [
        "# STAGE 2"
      ],
      "metadata": {
        "id": "Sl8l4XrLKs_R"
      }
    },
    {
      "cell_type": "code",
      "source": [
        "#@title # **👠HIGH HEELS RUN >>>>>>>>>>>** { vertical-output: true }\n",
        "# newsize = (233, 454) #(260, 260) # /.... 233 * 454\n",
        "\n",
        "import jax\n",
        "from jax import random\n",
        "from tqdm import tqdm\n",
        "import re\n",
        "from google.colab import output\n",
        "import orbax.checkpoint as orbax\n",
        "from flax.training import checkpoints\n",
        "\n",
        "import optax\n",
        "import nest_asyncio\n",
        "nest_asyncio.apply()\n",
        "\n",
        "rng = jax.random.PRNGKey(0)\n",
        "CKPT_DIR = 'ckpts'\n",
        "\n",
        "######################<<<< initiating train state\n",
        "batches = data_stream(0, no_of_batches)\n",
        "batches = slicedImageInput(get_slice_bboxes(batches[0].shape[1], batches[0].shape[2])[0], batches)\n",
        "newsize = (batches[0].shape[1], batches[0].shape[2])\n",
        "count = 0\n",
        "if count == 0 :\n",
        "  BATCH, H, W, Channels = batches[0].shape\n",
        "  state = Create_train_state( rng, model, (BATCH, H, W, Channels ), learning_rate ) \n",
        "  count = 1\n",
        "#✅✅🔻 state = flax.jax_utils.replicate(state)  # FLAX will replicate the state to every device so that updating can be made easy\n",
        "\n",
        "###################### \n",
        "checkpoint_available = 0\n",
        "pattern = re.compile(\"checkpoint_\\d+\")   # to search for \"checkpoint_*munerical value*\" numerical value of any length is denoted by regular expression \"\\d+\"\n",
        "dir = \"/content/ckpts/\"\n",
        "isFile = os.path.isdir(dir)\n",
        "if isFile:\n",
        "  for filepath in os.listdir(dir):\n",
        "      if pattern.match(filepath):\n",
        "          checkpoint_available = 1\n",
        "\n",
        "total_epochs = 5\n",
        "for epochs in tqdm(range(total_epochs)):  \n",
        "\n",
        "  if checkpoint_available:\n",
        "    state = checkpoints.restore_checkpoint(ckpt_dir=CKPT_DIR, target=state)\n",
        "    checkpoint_available = 0 # << Flag updated >>> to stop loading the same checkpoint in the next iteration then remove the checkpoint directory\n",
        "    !rm -r {dir}\n",
        "\n",
        "\n",
        "  for Aimage in tqdm(range(no_of_batches)):\n",
        "    input_data = data_stream(Aimage, no_of_batches)\n",
        "    main_size = (input_data[0].shape[1], input_data[0].shape[2])\n",
        "    xoutput = np.zeros(main_size)\n",
        "    youtput = np.zeros(main_size)\n",
        "    for i in get_slice_bboxes(main_size[0], main_size[1]):\n",
        "      print(i, \"<< th slice\")\n",
        "      input_x_y_images = slicedImageInput(i, input_data)\n",
        "      state, metrics = train_step(state, input_x_y_images, rng)\n",
        "\n",
        "      xoutput[i[1]:i[3], i[0]:i[2]] = np.array(metrics['logits'].swapaxes(1, 3).swapaxes(2, 3)[0][0])\n",
        "      youtput[i[1]:i[3], i[0]:i[2]] = np.array(metrics['labels'].swapaxes(1, 3).swapaxes(2, 3)[0][0])\n",
        "      # DisplaySTATE(state)\n",
        "      print(\"loss: \", metrics['loss'],\" <<< \") # naming of the checkpoint is \"checkpoint_*\"  where \"*\" => value of the steps variable, i.e. 'epochs'\n",
        "    show_image(xoutput, youtput, main_size)\n",
        "    array2raster(str(Aimage)+'.tif', input_data[2], xoutput, \"Float32\")\n",
        "  orbax_checkpointer = orbax.Checkpointer(orbax.PyTreeCheckpointHandler())\n",
        "  checkpoints.save_checkpoint(ckpt_dir=CKPT_DIR, target=state, step=epochs, prefix='checkpoint_', keep=1, overwrite=False, orbax_checkpointer=orbax_checkpointer)\n",
        "  # restored_state = checkpoints.restore_checkpoint(ckpt_dir=CKPT_DIR, target=state) # using to get the checkpoint loaded , it can be latest one , or if already available as checkpoint in the \"CKPT_DIR\" directory then take the file from directory then save in >> restored_checkpoints\n",
        "  ##################################################\n",
        "\n"
      ],
      "metadata": {
        "id": "yPArjH5IYMrl"
      },
      "execution_count": null,
      "outputs": []
    },
    {
      "cell_type": "markdown",
      "source": [
        "**inference engine**"
      ],
      "metadata": {
        "id": "yZwxFsKYUCL5"
      }
    },
    {
      "cell_type": "code",
      "source": [
        "\n",
        "# # newsize = (140,140) #(260, 260) # /.... 233 * 454\n",
        "# from google.colab.patches import cv2_imshow\n",
        "# import numpy as np \n",
        "# from google.colab import output\n",
        "\n",
        "# !wget https://live.staticflickr.com/7492/15677707699_d9d67acf9d_b.jpg -O a.jpg\n",
        "# image_in = '/content/a.jpg'\n",
        "\n",
        "# from PIL import Image\n",
        "# import jax.numpy as jnp\n",
        "# def imageRGB(argv):\n",
        "#     im = Image.open(argv)\n",
        "#     tvt, tvu = jnp.asarray(im.resize(newsize)),jnp.asarray(im.resize(newsize)).reshape(-1,3)\n",
        "#     return tvt, tvu\n",
        "# image = jnp.asarray((imageRGB(image_in)[1]))\n",
        "# #restored_state = checkpoints.restore_checkpoint(ckpt_dir=CKPT_DIR, target=state)\n",
        "# #state = restored_state\n",
        "# prediction = eval_step(state, image)\n",
        "# prediction['loss']\n",
        "\n",
        "\n",
        "# predicted_image = np.array(prediction['logits'],  dtype=np.uint8).reshape(newsize) \n",
        "# cv2_imshow(predicted_image)\n"
      ],
      "metadata": {
        "id": "u4qN8DkhUCL5"
      },
      "execution_count": null,
      "outputs": []
    }
  ]
}