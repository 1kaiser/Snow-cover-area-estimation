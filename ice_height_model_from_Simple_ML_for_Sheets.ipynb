{
  "nbformat": 4,
  "nbformat_minor": 0,
  "metadata": {
    "colab": {
      "provenance": [],
      "authorship_tag": "ABX9TyNTGF19IBrhE+g7ezd/Vdmj",
      "include_colab_link": true
    },
    "kernelspec": {
      "name": "python3",
      "display_name": "Python 3"
    },
    "language_info": {
      "name": "python"
    }
  },
  "cells": [
    {
      "cell_type": "markdown",
      "metadata": {
        "id": "view-in-github",
        "colab_type": "text"
      },
      "source": [
        "<a href=\"https://colab.research.google.com/github/1kaiser/Snow-cover-area-estimation/blob/main/ice_height_model_from_Simple_ML_for_Sheets.ipynb\" target=\"_parent\"><img src=\"https://colab.research.google.com/assets/colab-badge.svg\" alt=\"Open In Colab\"/></a>"
      ]
    },
    {
      "cell_type": "code",
      "execution_count": 11,
      "metadata": {
        "colab": {
          "base_uri": "https://localhost:8080/"
        },
        "id": "2NfshglIw7bD",
        "outputId": "a117948d-e8d5-48e6-927d-4fc5a3917bd8"
      },
      "outputs": [
        {
          "output_type": "stream",
          "name": "stdout",
          "text": [
            "Drive already mounted at /content/gdrive; to attempt to forcibly remount, call drive.mount(\"/content/gdrive\", force_remount=True).\n"
          ]
        },
        {
          "output_type": "stream",
          "name": "stderr",
          "text": [
            "WARNING:absl:Found untraced functions such as call_get_leaves, _update_step_xla while saving (showing 2 of 2). These functions will not be directly callable after loading.\n"
          ]
        }
      ],
      "source": [
        "#Copy and execute the following code in a new Google Colab notebook launch to run the model.\n",
        "\n",
        "!python -m pip install tensorflow tensorflow_decision_forests -U -qq\n",
        "\n",
        "# Transfer the model from Google Drive to Colab\n",
        "from google.colab import drive\n",
        "drive.mount(\"/content/gdrive\")\n",
        "!cp \"/content/gdrive/My Drive/simple_ml_for_sheets/Ice height from bands\" ydf_model\n",
        "  \n",
        "# Prepare and load the model with TensorFlow\n",
        "import tensorflow as tf\n",
        "import tensorflow_decision_forests as tfdf\n",
        "\n",
        "\n",
        "tfdf.keras.yggdrasil_model_to_keras_model(\"ydf_model\", \"tfdf_model\")\n",
        "model = tf.keras.models.load_model(\"tfdf_model\")\n",
        "\n",
        "# Make predictions with the model\n",
        "examples = {\n",
        "  \"b3\" : [0.441806, 0.441806, 0.441806],\n",
        "  \"b4\" : [0.453168, 0.453168, 0.453168],\n",
        "  \"b6\" : [0.485488, 0.485488, 0.485488],\n",
        "  \"b8a\" : [0.475059, 0.475059, 0.475059],\n",
        "  \"b7\" : [0.482323, 0.482323, 0.482323],\n",
        "  \"b2\" : [0.449908, 0.449908, 0.449908],\n",
        "  \"lon\" : [76.8341, 76.8341, 76.8341],\n",
        "  \"lat\" : [32.4115, 32.4115, 32.4115],\n",
        "  \"b12\" : [0.169883, 0.169883, 0.169883],\n",
        "  \"b8\" : [0.473828, 0.473828, 0.473828],\n",
        "  \"b11\" : [0.199173, 0.199173, 0.199173],\n",
        "  \"b5\" : [0.464656, 0.464656, 0.464656],\n",
        "}\n",
        "a = model.predict_step(examples)"
      ]
    },
    {
      "cell_type": "code",
      "source": [
        "a.shape"
      ],
      "metadata": {
        "colab": {
          "base_uri": "https://localhost:8080/"
        },
        "id": "eX1oJL-48lHK",
        "outputId": "6c0fe219-db4b-41e0-f779-9dc585823ad0"
      },
      "execution_count": 13,
      "outputs": [
        {
          "output_type": "execute_result",
          "data": {
            "text/plain": [
              "TensorShape([3, 1])"
            ]
          },
          "metadata": {},
          "execution_count": 13
        }
      ]
    }
  ]
}